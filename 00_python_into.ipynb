{
  "cells": [
    {
      "cell_type": "markdown",
      "id": "733f8cec",
      "metadata": {
        "id": "733f8cec"
      },
      "source": [
        "# Python Tutorial"
      ]
    },
    {
      "cell_type": "markdown",
      "id": "b0c8be96",
      "metadata": {},
      "source": [
        "Inspired by stanford cs224n"
      ]
    },
    {
      "cell_type": "markdown",
      "id": "347cd487",
      "metadata": {
        "id": "347cd487"
      },
      "source": [
        "## Collections"
      ]
    },
    {
      "cell_type": "markdown",
      "id": "e691f94d",
      "metadata": {
        "id": "e691f94d"
      },
      "source": [
        "Python has several built-in types that are useful for storing and manipulating data: list, tuple, dict. Here is the official Python documentation on these types (and many others): https://docs.python.org/3/library/stdtypes.html."
      ]
    },
    {
      "cell_type": "markdown",
      "id": "635401d7",
      "metadata": {
        "id": "635401d7"
      },
      "source": [
        "### Lists"
      ]
    },
    {
      "cell_type": "markdown",
      "id": "ce42dfd9",
      "metadata": {
        "id": "ce42dfd9"
      },
      "source": [
        "Lists are mutable arrays. Let's see how they work."
      ]
    },
    {
      "cell_type": "code",
      "execution_count": 1,
      "id": "3f24605e",
      "metadata": {
        "id": "3f24605e"
      },
      "outputs": [],
      "source": [
        "names = [\"Zach\", \"Jay\"]"
      ]
    },
    {
      "cell_type": "code",
      "execution_count": 2,
      "id": "ae2fb323",
      "metadata": {
        "colab": {
          "base_uri": "https://localhost:8080/"
        },
        "id": "ae2fb323",
        "outputId": "504fa423-23f8-42f9-9de1-183600722e3e"
      },
      "outputs": [
        {
          "name": "stdout",
          "output_type": "stream",
          "text": [
            "Zach\n"
          ]
        }
      ],
      "source": [
        "# Index into list by index\n",
        "print(names[0])"
      ]
    },
    {
      "cell_type": "code",
      "execution_count": 3,
      "id": "64066853",
      "metadata": {
        "colab": {
          "base_uri": "https://localhost:8080/"
        },
        "id": "64066853",
        "outputId": "4de8cc78-90ae-496a-9960-32b2bca0efcb"
      },
      "outputs": [
        {
          "name": "stdout",
          "output_type": "stream",
          "text": [
            "['Zach', 'Jay', 'Richard']\n"
          ]
        }
      ],
      "source": [
        "# Append to list (appends to end of list)\n",
        "names.append(\"Richard\")\n",
        "print(names)"
      ]
    },
    {
      "cell_type": "code",
      "execution_count": 4,
      "id": "357799cc",
      "metadata": {
        "colab": {
          "base_uri": "https://localhost:8080/"
        },
        "id": "357799cc",
        "outputId": "0d92d03d-3a15-4ef6-83a7-96d6e6f36c61"
      },
      "outputs": [
        {
          "name": "stdout",
          "output_type": "stream",
          "text": [
            "3\n"
          ]
        }
      ],
      "source": [
        "# Get length of list\n",
        "print(len(names))"
      ]
    },
    {
      "cell_type": "code",
      "execution_count": 5,
      "id": "8977adcf",
      "metadata": {
        "colab": {
          "base_uri": "https://localhost:8080/"
        },
        "id": "8977adcf",
        "outputId": "74b3cbe0-a3c6-4aaf-90b8-3f4335abe8c0"
      },
      "outputs": [
        {
          "name": "stdout",
          "output_type": "stream",
          "text": [
            "['Zach', 'Jay', 'Richard', 'Abi', 'Kevin']\n"
          ]
        }
      ],
      "source": [
        "# Concatenate two lists\n",
        "# += operator is a short hand for list1 = list1 + list2 (can also be used for -, *, / and on other types of variables)\n",
        "names += [\"Abi\", \"Kevin\"]\n",
        "print(names)"
      ]
    },
    {
      "cell_type": "code",
      "execution_count": 6,
      "id": "57c178a7",
      "metadata": {
        "id": "57c178a7"
      },
      "outputs": [],
      "source": [
        "# Two ways to create an empty list\n",
        "more_names = []\n",
        "more_names = list()"
      ]
    },
    {
      "cell_type": "code",
      "execution_count": 7,
      "id": "7913fce7",
      "metadata": {
        "colab": {
          "base_uri": "https://localhost:8080/"
        },
        "id": "7913fce7",
        "outputId": "0f91fe15-6e63-4894-a4dc-87ea34ccb531",
        "scrolled": true
      },
      "outputs": [
        {
          "name": "stdout",
          "output_type": "stream",
          "text": [
            "[1, ['hi', 'bye'], -0.12, None]\n"
          ]
        }
      ],
      "source": [
        "# Create a list that contains different data types, this is allowed in Python\n",
        "stuff = [1, [\"hi\", \"bye\"], -0.12, None]\n",
        "print(stuff)"
      ]
    },
    {
      "cell_type": "markdown",
      "id": "68682c20",
      "metadata": {
        "id": "68682c20"
      },
      "source": [
        "List slicing is a useful way to access a slice of elements in a list."
      ]
    },
    {
      "cell_type": "code",
      "execution_count": 8,
      "id": "8fc049ef",
      "metadata": {
        "colab": {
          "base_uri": "https://localhost:8080/"
        },
        "id": "8fc049ef",
        "outputId": "37a1b397-b34f-4f07-82a2-5392bd614ea3"
      },
      "outputs": [
        {
          "name": "stdout",
          "output_type": "stream",
          "text": [
            "[0, 1, 2]\n"
          ]
        }
      ],
      "source": [
        "numbers = [0, 1, 2, 3, 4, 5, 6]\n",
        "\n",
        "# Slices from start index (inclusive) to end index (exclusive)\n",
        "print(numbers[0:3])"
      ]
    },
    {
      "cell_type": "code",
      "execution_count": 9,
      "id": "3e34a509",
      "metadata": {
        "colab": {
          "base_uri": "https://localhost:8080/"
        },
        "id": "3e34a509",
        "outputId": "764bdcdb-794b-48e7-d12b-1095e91b0cbf"
      },
      "outputs": [
        {
          "name": "stdout",
          "output_type": "stream",
          "text": [
            "[0, 1, 2]\n",
            "[5, 6]\n"
          ]
        }
      ],
      "source": [
        "# When start index is not specified, it is start of list\n",
        "# When end index is not specified, it is end of list\n",
        "print(numbers[:3])\n",
        "print(numbers[5:])"
      ]
    },
    {
      "cell_type": "code",
      "execution_count": 10,
      "id": "813da35a",
      "metadata": {
        "colab": {
          "base_uri": "https://localhost:8080/"
        },
        "id": "813da35a",
        "outputId": "bc547329-e265-4659-82ef-e30b0ef409fd"
      },
      "outputs": [
        {
          "name": "stdout",
          "output_type": "stream",
          "text": [
            "[0, 1, 2, 3, 4, 5, 6]\n"
          ]
        }
      ],
      "source": [
        "# : takes the slice of all elements along a dimension, is very useful when working with numpy arrays\n",
        "print(numbers[:])"
      ]
    },
    {
      "cell_type": "code",
      "execution_count": 11,
      "id": "eaa197af",
      "metadata": {
        "colab": {
          "base_uri": "https://localhost:8080/"
        },
        "id": "eaa197af",
        "outputId": "4c1738c0-3cc2-46a5-ea02-ae37f426f6ae"
      },
      "outputs": [
        {
          "name": "stdout",
          "output_type": "stream",
          "text": [
            "6\n",
            "[4, 5, 6]\n",
            "[3, 4]\n"
          ]
        }
      ],
      "source": [
        "# Negative index wraps around, start counting from the end of list\n",
        "print(numbers[-1])\n",
        "print(numbers[-3:])\n",
        "print(numbers[3:-2])"
      ]
    },
    {
      "cell_type": "markdown",
      "id": "22371049",
      "metadata": {
        "id": "22371049"
      },
      "source": [
        "### Tuples"
      ]
    },
    {
      "cell_type": "markdown",
      "id": "bfca6098",
      "metadata": {
        "id": "bfca6098"
      },
      "source": [
        "Tuples are immutable arrays. Let's see how they work."
      ]
    },
    {
      "cell_type": "code",
      "execution_count": 12,
      "id": "b542e470",
      "metadata": {
        "id": "b542e470"
      },
      "outputs": [],
      "source": [
        "# Use parentheses for tuples, square brackets for lists\n",
        "names = (\"Zach\", \"Jay\")"
      ]
    },
    {
      "cell_type": "code",
      "execution_count": 13,
      "id": "3906a033",
      "metadata": {
        "colab": {
          "base_uri": "https://localhost:8080/"
        },
        "id": "3906a033",
        "outputId": "d589ddd8-c62f-4f23-8790-9b9f9dd2b744"
      },
      "outputs": [
        {
          "name": "stdout",
          "output_type": "stream",
          "text": [
            "Zach\n",
            "2\n"
          ]
        }
      ],
      "source": [
        "# Syntax for accessing an element and getting length are the same as lists\n",
        "print(names[0])\n",
        "print(len(names))"
      ]
    },
    {
      "cell_type": "code",
      "execution_count": 14,
      "id": "8799a4c5",
      "metadata": {
        "colab": {
          "base_uri": "https://localhost:8080/",
          "height": 182
        },
        "id": "8799a4c5",
        "outputId": "d85ff2f2-9d9c-40ee-bda3-5dbcb4b5841e"
      },
      "outputs": [
        {
          "ename": "TypeError",
          "evalue": "'tuple' object does not support item assignment",
          "output_type": "error",
          "traceback": [
            "\u001b[1;31m---------------------------------------------------------------------------\u001b[0m",
            "\u001b[1;31mTypeError\u001b[0m                                 Traceback (most recent call last)",
            "Cell \u001b[1;32mIn[14], line 2\u001b[0m\n\u001b[0;32m      1\u001b[0m \u001b[38;5;66;03m# But unlike lists, tuples do not support item re-assignment\u001b[39;00m\n\u001b[1;32m----> 2\u001b[0m \u001b[43mnames\u001b[49m\u001b[43m[\u001b[49m\u001b[38;5;241;43m0\u001b[39;49m\u001b[43m]\u001b[49m \u001b[38;5;241m=\u001b[39m \u001b[38;5;124m\"\u001b[39m\u001b[38;5;124mRichard\u001b[39m\u001b[38;5;124m\"\u001b[39m\n",
            "\u001b[1;31mTypeError\u001b[0m: 'tuple' object does not support item assignment"
          ]
        }
      ],
      "source": [
        "# But unlike lists, tuples do not support item re-assignment\n",
        "names[0] = \"Richard\""
      ]
    },
    {
      "cell_type": "code",
      "execution_count": 15,
      "id": "9918ac4b",
      "metadata": {
        "colab": {
          "base_uri": "https://localhost:8080/"
        },
        "id": "9918ac4b",
        "outputId": "5df94620-0758-4a17-9b78-11840d7ed227"
      },
      "outputs": [
        {
          "name": "stdout",
          "output_type": "stream",
          "text": [
            "()\n",
            "(10,)\n"
          ]
        }
      ],
      "source": [
        "# Create an empty tuple\n",
        "empty = tuple()\n",
        "print(empty)\n",
        "\n",
        "# Create a tuple with a single item, the comma is important\n",
        "single = (10,)\n",
        "print(single)"
      ]
    },
    {
      "cell_type": "markdown",
      "id": "00800704",
      "metadata": {
        "id": "00800704"
      },
      "source": [
        "## Dictionary"
      ]
    },
    {
      "cell_type": "markdown",
      "id": "8111c6c3",
      "metadata": {
        "id": "8111c6c3"
      },
      "source": [
        "Dictionaries are hash maps. Let's see how they work."
      ]
    },
    {
      "cell_type": "code",
      "execution_count": 16,
      "id": "646bda2f",
      "metadata": {
        "id": "646bda2f"
      },
      "outputs": [],
      "source": [
        "# Two ways to create an empty dictionary\n",
        "phonebook = {}\n",
        "phonebook = dict()"
      ]
    },
    {
      "cell_type": "code",
      "execution_count": 17,
      "id": "65c67196",
      "metadata": {
        "id": "65c67196"
      },
      "outputs": [],
      "source": [
        "# Create dictionary with one item\n",
        "phonebook = {\"Zach\": \"12-37\"}\n",
        "# Add another item\n",
        "phonebook[\"Jay\"] = \"34-23\""
      ]
    },
    {
      "cell_type": "code",
      "execution_count": 18,
      "id": "1bc431d9",
      "metadata": {
        "colab": {
          "base_uri": "https://localhost:8080/"
        },
        "id": "1bc431d9",
        "outputId": "f854999e-2bf3-4ad9-af67-0b9f214bf143"
      },
      "outputs": [
        {
          "name": "stdout",
          "output_type": "stream",
          "text": [
            "True\n",
            "False\n"
          ]
        }
      ],
      "source": [
        "# Check if a key is in the dictionary\n",
        "print(\"Zach\" in phonebook)\n",
        "print(\"Kevin\" in phonebook)"
      ]
    },
    {
      "cell_type": "code",
      "execution_count": 19,
      "id": "87018123",
      "metadata": {
        "colab": {
          "base_uri": "https://localhost:8080/"
        },
        "id": "87018123",
        "outputId": "6706a4e5-aec7-40a7-9d1f-915558b9a582"
      },
      "outputs": [
        {
          "name": "stdout",
          "output_type": "stream",
          "text": [
            "34-23\n"
          ]
        }
      ],
      "source": [
        "# Get corresponding value for a key\n",
        "print(phonebook[\"Jay\"])"
      ]
    },
    {
      "cell_type": "code",
      "execution_count": 20,
      "id": "18555a3a",
      "metadata": {
        "colab": {
          "base_uri": "https://localhost:8080/"
        },
        "id": "18555a3a",
        "outputId": "def9ea35-d497-4278-ca9e-1777542a7357"
      },
      "outputs": [
        {
          "name": "stdout",
          "output_type": "stream",
          "text": [
            "{'Jay': '34-23'}\n"
          ]
        }
      ],
      "source": [
        "# Delete an item\n",
        "del phonebook[\"Zach\"]\n",
        "print(phonebook)"
      ]
    },
    {
      "cell_type": "markdown",
      "id": "60aceb86",
      "metadata": {
        "id": "60aceb86"
      },
      "source": [
        "## Loops"
      ]
    },
    {
      "cell_type": "code",
      "execution_count": 21,
      "id": "f7189f9d",
      "metadata": {
        "colab": {
          "base_uri": "https://localhost:8080/"
        },
        "id": "f7189f9d",
        "outputId": "fca407da-ccfc-4c8d-b3f8-2cb056ee16e7"
      },
      "outputs": [
        {
          "name": "stdout",
          "output_type": "stream",
          "text": [
            "0\n",
            "1\n",
            "2\n",
            "3\n",
            "4\n"
          ]
        }
      ],
      "source": [
        "# Basic for loop\n",
        "for i in range(5):\n",
        "    print(i)"
      ]
    },
    {
      "cell_type": "code",
      "execution_count": 22,
      "id": "10ae15db",
      "metadata": {
        "colab": {
          "base_uri": "https://localhost:8080/"
        },
        "id": "10ae15db",
        "outputId": "04a5147c-fc24-4376-9f87-31cc7d0ef041"
      },
      "outputs": [
        {
          "name": "stdout",
          "output_type": "stream",
          "text": [
            "Zach\n",
            "Jay\n",
            "Richard\n"
          ]
        }
      ],
      "source": [
        "# To iterate over a list\n",
        "names = [\"Zach\", \"Jay\", \"Richard\"]\n",
        "for name in names:\n",
        "    print(name)"
      ]
    },
    {
      "cell_type": "code",
      "execution_count": 23,
      "id": "00d5035b",
      "metadata": {
        "colab": {
          "base_uri": "https://localhost:8080/"
        },
        "id": "00d5035b",
        "outputId": "e5f8d3f3-02c5-48fe-833e-93123a3ad5f5"
      },
      "outputs": [
        {
          "name": "stdout",
          "output_type": "stream",
          "text": [
            "0 Zach\n",
            "1 Jay\n",
            "2 Richard\n",
            "---\n",
            "0 Zach\n",
            "1 Jay\n",
            "2 Richard\n"
          ]
        }
      ],
      "source": [
        "# To iterate over indices and values in a list\n",
        "# Way 1\n",
        "for i in range(len(names)):\n",
        "    print(i, names[i])\n",
        "\n",
        "print(\"---\")\n",
        "\n",
        "# Way 2\n",
        "for i, name in enumerate(names):\n",
        "    print(i, name)"
      ]
    },
    {
      "cell_type": "code",
      "execution_count": 24,
      "id": "f18b7ce6",
      "metadata": {
        "colab": {
          "base_uri": "https://localhost:8080/"
        },
        "id": "f18b7ce6",
        "outputId": "68d2057f-4d63-4a7f-c5a2-359add5a71c3"
      },
      "outputs": [
        {
          "name": "stdout",
          "output_type": "stream",
          "text": [
            "Zach\n",
            "Jay\n",
            "---\n",
            "12-37\n",
            "34-23\n",
            "---\n",
            "Zach 12-37\n",
            "Jay 34-23\n"
          ]
        }
      ],
      "source": [
        "# To iterate over a dictionary\n",
        "phonebook = {\"Zach\": \"12-37\", \"Jay\": \"34-23\"}\n",
        "\n",
        "# Iterate over keys\n",
        "for name in phonebook:\n",
        "    print(name)\n",
        "\n",
        "print(\"---\")\n",
        "\n",
        "# Iterate over values\n",
        "for number in phonebook.values():\n",
        "    print(number)\n",
        "\n",
        "print(\"---\")\n",
        "\n",
        "# Iterate over keys and values\n",
        "for name, number in phonebook.items():\n",
        "    print(name, number)"
      ]
    },
    {
      "cell_type": "markdown",
      "id": "df7a1def",
      "metadata": {},
      "source": [
        "List comprehensions"
      ]
    },
    {
      "cell_type": "code",
      "execution_count": 25,
      "id": "4bf78097",
      "metadata": {},
      "outputs": [
        {
          "name": "stdout",
          "output_type": "stream",
          "text": [
            "[0, 1, 2, 3, 4, 5, 6, 7, 8, 9]\n"
          ]
        }
      ],
      "source": [
        "l = [i for i in range(10)]\n",
        "print(l)"
      ]
    },
    {
      "cell_type": "code",
      "execution_count": 26,
      "id": "e1b81b7c",
      "metadata": {},
      "outputs": [
        {
          "name": "stdout",
          "output_type": "stream",
          "text": [
            "[0, 0, 1, 2, 2, 4, 3, 6, 4, 8, 5, 10, 6, 12, 7, 14, 8, 16, 9, 18]\n"
          ]
        }
      ],
      "source": [
        "l = [i * j for i in range(10) \n",
        "            for j in range(1, 3)]\n",
        "print(l)"
      ]
    },
    {
      "cell_type": "markdown",
      "id": "35da460a",
      "metadata": {},
      "source": [
        "## Functions"
      ]
    },
    {
      "cell_type": "code",
      "execution_count": 27,
      "id": "1e9387d6",
      "metadata": {},
      "outputs": [],
      "source": [
        "def foo(arg1, arg2='default value'):\n",
        "    return arg1, arg2"
      ]
    },
    {
      "cell_type": "code",
      "execution_count": 28,
      "id": "f6380944",
      "metadata": {},
      "outputs": [
        {
          "data": {
            "text/plain": [
              "(5, 'default value')"
            ]
          },
          "execution_count": 28,
          "metadata": {},
          "output_type": "execute_result"
        }
      ],
      "source": [
        "foo(5)"
      ]
    },
    {
      "cell_type": "code",
      "execution_count": 193,
      "id": "0456a49f",
      "metadata": {},
      "outputs": [],
      "source": [
        "# Type hints are optional and are just that hints\n",
        "# There is no obligation to actually follow them\n",
        "def bar(arg1: int, arg2: str='default value') -> tuple[int, str]:\n",
        "    return arg1, arg2"
      ]
    },
    {
      "cell_type": "code",
      "execution_count": 194,
      "id": "47d1fb74",
      "metadata": {},
      "outputs": [
        {
          "data": {
            "text/plain": [
              "(42, 'meaning')"
            ]
          },
          "execution_count": 194,
          "metadata": {},
          "output_type": "execute_result"
        }
      ],
      "source": [
        "bar(42, 'meaning')"
      ]
    },
    {
      "cell_type": "code",
      "execution_count": 195,
      "id": "a62444e4",
      "metadata": {},
      "outputs": [
        {
          "data": {
            "text/plain": [
              "('meaning', 42)"
            ]
          },
          "execution_count": 195,
          "metadata": {},
          "output_type": "execute_result"
        }
      ],
      "source": [
        "bar('meaning', 42)"
      ]
    },
    {
      "cell_type": "markdown",
      "id": "a3bcc5a8",
      "metadata": {},
      "source": [
        "#### `*args` & `**kwargs`"
      ]
    },
    {
      "cell_type": "code",
      "execution_count": 196,
      "id": "e0f6cd7f",
      "metadata": {},
      "outputs": [],
      "source": [
        "def bar(*args, **kwargs):\n",
        "    print(f'args = {args} {type(args)}')\n",
        "    print(f'kwargs = {kwargs} {type(kwargs)}')"
      ]
    },
    {
      "cell_type": "code",
      "execution_count": 30,
      "id": "01ad2f23",
      "metadata": {},
      "outputs": [
        {
          "name": "stdout",
          "output_type": "stream",
          "text": [
            "args = (4, 2, 'AI') <class 'tuple'>\n",
            "kwargs = {'animals': ['pandas', 'cats', ''], 'people': {'Dijkstra', 'Knut', 'Curry'}} <class 'dict'>\n"
          ]
        }
      ],
      "source": [
        "bar(4, 2, 'AI',\n",
        "    animals=['pandas', 'cats', ''],\n",
        "    people={'Knut', 'Dijkstra', 'Curry'})"
      ]
    },
    {
      "cell_type": "markdown",
      "id": "089dd810",
      "metadata": {},
      "source": [
        "### Higher-Order Functions: Map Filter And Zip"
      ]
    },
    {
      "cell_type": "code",
      "execution_count": 31,
      "id": "5a568233",
      "metadata": {},
      "outputs": [],
      "source": [
        "def fact(n):\n",
        "    return 1 if n < 2 else n * fact(n-1)"
      ]
    },
    {
      "cell_type": "code",
      "execution_count": 32,
      "id": "f60d3779",
      "metadata": {},
      "outputs": [
        {
          "data": {
            "text/plain": [
              "<map at 0x23ee3558c10>"
            ]
          },
          "execution_count": 32,
          "metadata": {},
          "output_type": "execute_result"
        }
      ],
      "source": [
        "map(fact, [1, 2, 3, 4, 5])"
      ]
    },
    {
      "cell_type": "code",
      "execution_count": 33,
      "id": "c95627b4",
      "metadata": {},
      "outputs": [
        {
          "name": "stdout",
          "output_type": "stream",
          "text": [
            "[1, 2, 6, 24, 120]\n"
          ]
        }
      ],
      "source": [
        "l = list(map(fact, [1, 2, 3, 4, 5]))\n",
        "print(l)"
      ]
    },
    {
      "cell_type": "code",
      "execution_count": 50,
      "id": "28b953db",
      "metadata": {},
      "outputs": [
        {
          "data": {
            "text/plain": [
              "<function __main__.<lambda>(x)>"
            ]
          },
          "execution_count": 50,
          "metadata": {},
          "output_type": "execute_result"
        }
      ],
      "source": [
        "lambda x : x + 1"
      ]
    },
    {
      "cell_type": "code",
      "execution_count": 49,
      "id": "5d282a53",
      "metadata": {},
      "outputs": [
        {
          "data": {
            "text/plain": [
              "2"
            ]
          },
          "execution_count": 49,
          "metadata": {},
          "output_type": "execute_result"
        }
      ],
      "source": [
        "(lambda x : x + 1)(1)"
      ]
    },
    {
      "cell_type": "code",
      "execution_count": 48,
      "id": "c33a4436",
      "metadata": {},
      "outputs": [
        {
          "name": "stdout",
          "output_type": "stream",
          "text": [
            "[11, 22, 33, 44, 55]\n"
          ]
        }
      ],
      "source": [
        "l1 = [1, 2, 3, 4, 5]\n",
        "l2 = [10, 20, 30, 40, 50]\n",
        "\n",
        "f = lambda x, y: x+y\n",
        "\n",
        "m = map(f, l1, l2)\n",
        "print(list(m))"
      ]
    },
    {
      "cell_type": "code",
      "execution_count": 55,
      "id": "28ae836b",
      "metadata": {},
      "outputs": [
        {
          "name": "stdout",
          "output_type": "stream",
          "text": [
            "[2, 4, 6, 8]\n"
          ]
        }
      ],
      "source": [
        "l = [1, 2, 3, 4, 5, 6, 7, 8, 9]\n",
        "result = filter(lambda x: x % 2 == 0, l)\n",
        "print(list(result))"
      ]
    },
    {
      "cell_type": "code",
      "execution_count": 54,
      "id": "b4bbc733",
      "metadata": {},
      "outputs": [
        {
          "data": {
            "text/plain": [
              "[(1, 'a'), (2, 'b'), (3, 'c')]"
            ]
          },
          "execution_count": 54,
          "metadata": {},
          "output_type": "execute_result"
        }
      ],
      "source": [
        "l1 = 1, 2, 3\n",
        "l2 = 'a', 'b', 'c'\n",
        "list(zip(l1, l2))"
      ]
    },
    {
      "cell_type": "markdown",
      "id": "b8308a2e",
      "metadata": {},
      "source": [
        "### Closures"
      ]
    },
    {
      "cell_type": "code",
      "execution_count": 56,
      "id": "4012856e",
      "metadata": {},
      "outputs": [],
      "source": [
        "def outer():\n",
        "    x = 'python'\n",
        "    def inner():\n",
        "        print(x)\n",
        "    return inner"
      ]
    },
    {
      "cell_type": "code",
      "execution_count": 57,
      "id": "d3bebaf5",
      "metadata": {},
      "outputs": [],
      "source": [
        "fn = outer()"
      ]
    },
    {
      "cell_type": "code",
      "execution_count": 58,
      "id": "371b08ee",
      "metadata": {},
      "outputs": [
        {
          "name": "stdout",
          "output_type": "stream",
          "text": [
            "python\n"
          ]
        }
      ],
      "source": [
        "fn()"
      ]
    },
    {
      "cell_type": "code",
      "execution_count": 59,
      "id": "5604df96",
      "metadata": {},
      "outputs": [],
      "source": [
        "def outer():\n",
        "    x = [1, 2, 3]\n",
        "    print('outer:', hex(id(x)))\n",
        "    def inner():\n",
        "        print('inner:', hex(id(x)))\n",
        "        print(x)\n",
        "    return inner"
      ]
    },
    {
      "cell_type": "code",
      "execution_count": 60,
      "id": "3fd4af17",
      "metadata": {},
      "outputs": [
        {
          "name": "stdout",
          "output_type": "stream",
          "text": [
            "outer: 0x23ee364f940\n"
          ]
        }
      ],
      "source": [
        "fn = outer()"
      ]
    },
    {
      "cell_type": "code",
      "execution_count": 61,
      "id": "8dff2921",
      "metadata": {},
      "outputs": [
        {
          "name": "stdout",
          "output_type": "stream",
          "text": [
            "inner: 0x23ee364f940\n",
            "[1, 2, 3]\n"
          ]
        }
      ],
      "source": [
        "fn()"
      ]
    },
    {
      "cell_type": "code",
      "execution_count": 62,
      "id": "9edfa671",
      "metadata": {},
      "outputs": [],
      "source": [
        "def adder(n):\n",
        "    def inner(x):\n",
        "        return x + n\n",
        "    return inner"
      ]
    },
    {
      "cell_type": "code",
      "execution_count": 63,
      "id": "2aaf821c",
      "metadata": {},
      "outputs": [],
      "source": [
        "def create_adders():\n",
        "    adders = []\n",
        "    for n in range(1, 5):\n",
        "        adders.append(lambda x: x + n)\n",
        "    return adders"
      ]
    },
    {
      "cell_type": "code",
      "execution_count": 64,
      "id": "e8f21701",
      "metadata": {},
      "outputs": [],
      "source": [
        "adders = create_adders()"
      ]
    },
    {
      "cell_type": "code",
      "execution_count": 65,
      "id": "83194b45",
      "metadata": {},
      "outputs": [
        {
          "data": {
            "text/plain": [
              "[<function __main__.create_adders.<locals>.<lambda>(x)>,\n",
              " <function __main__.create_adders.<locals>.<lambda>(x)>,\n",
              " <function __main__.create_adders.<locals>.<lambda>(x)>,\n",
              " <function __main__.create_adders.<locals>.<lambda>(x)>]"
            ]
          },
          "execution_count": 65,
          "metadata": {},
          "output_type": "execute_result"
        }
      ],
      "source": [
        "adders"
      ]
    },
    {
      "cell_type": "code",
      "execution_count": 79,
      "id": "57d92c0d",
      "metadata": {},
      "outputs": [
        {
          "data": {
            "text/plain": [
              "(14, 14)"
            ]
          },
          "execution_count": 79,
          "metadata": {},
          "output_type": "execute_result"
        }
      ],
      "source": [
        "adders[0](10), adders[1](10)"
      ]
    },
    {
      "cell_type": "code",
      "execution_count": 81,
      "id": "191820cb",
      "metadata": {},
      "outputs": [],
      "source": [
        "def create_adders():\n",
        "    adders = []\n",
        "    for n in range(1, 5):\n",
        "        adders.append(lambda x, step=n: x + step)\n",
        "    return adders"
      ]
    },
    {
      "cell_type": "code",
      "execution_count": 82,
      "id": "02b9503e",
      "metadata": {},
      "outputs": [],
      "source": [
        "adders_2 = create_adders()"
      ]
    },
    {
      "cell_type": "code",
      "execution_count": 83,
      "id": "b27af71a",
      "metadata": {},
      "outputs": [
        {
          "data": {
            "text/plain": [
              "(11, 12)"
            ]
          },
          "execution_count": 83,
          "metadata": {},
          "output_type": "execute_result"
        }
      ],
      "source": [
        "adders_2[0](10), adders_2[1](10)"
      ]
    },
    {
      "cell_type": "markdown",
      "id": "1be6dab9",
      "metadata": {},
      "source": [
        "### Decorators"
      ]
    },
    {
      "cell_type": "code",
      "execution_count": 87,
      "id": "3d5b3c2f",
      "metadata": {},
      "outputs": [],
      "source": [
        "def counter(fn):\n",
        "    count = 0\n",
        "    \n",
        "    def inner(*args, **kwargs):\n",
        "        nonlocal count\n",
        "        count += 1\n",
        "        print(f'Function {fn.__name__} was called {count} times with args {args} and kwargs {kwargs}')\n",
        "        return fn(*args, **kwargs)\n",
        "    return inner"
      ]
    },
    {
      "cell_type": "code",
      "execution_count": 88,
      "id": "36b2e2ef",
      "metadata": {},
      "outputs": [],
      "source": [
        "def add(a, b):\n",
        "    return a + b"
      ]
    },
    {
      "cell_type": "code",
      "execution_count": 89,
      "id": "42508605",
      "metadata": {},
      "outputs": [],
      "source": [
        "add = counter(add)"
      ]
    },
    {
      "cell_type": "code",
      "execution_count": 90,
      "id": "d3f59cd2",
      "metadata": {},
      "outputs": [
        {
          "name": "stdout",
          "output_type": "stream",
          "text": [
            "Function add was called 1 times with args (1, 2) and kwargs {}\n"
          ]
        },
        {
          "data": {
            "text/plain": [
              "3"
            ]
          },
          "execution_count": 90,
          "metadata": {},
          "output_type": "execute_result"
        }
      ],
      "source": [
        "add(1, 2)"
      ]
    },
    {
      "cell_type": "code",
      "execution_count": 96,
      "id": "6813880f",
      "metadata": {},
      "outputs": [
        {
          "name": "stdout",
          "output_type": "stream",
          "text": [
            "Function add was called 3 times with args (1,) and kwargs {'b': 4}\n"
          ]
        },
        {
          "data": {
            "text/plain": [
              "5"
            ]
          },
          "execution_count": 96,
          "metadata": {},
          "output_type": "execute_result"
        }
      ],
      "source": [
        "add(1, b=4)"
      ]
    },
    {
      "cell_type": "code",
      "execution_count": 92,
      "id": "f0c8f117",
      "metadata": {},
      "outputs": [],
      "source": [
        "@counter\n",
        "def mult(a, b):\n",
        "    return a * b"
      ]
    },
    {
      "cell_type": "code",
      "execution_count": 93,
      "id": "62c2aef7",
      "metadata": {},
      "outputs": [
        {
          "name": "stdout",
          "output_type": "stream",
          "text": [
            "Function mult was called 1 times with args (1, 2) and kwargs {}\n"
          ]
        },
        {
          "data": {
            "text/plain": [
              "2"
            ]
          },
          "execution_count": 93,
          "metadata": {},
          "output_type": "execute_result"
        }
      ],
      "source": [
        "mult(1, 2)"
      ]
    },
    {
      "cell_type": "code",
      "execution_count": 95,
      "id": "bce45918",
      "metadata": {},
      "outputs": [
        {
          "name": "stdout",
          "output_type": "stream",
          "text": [
            "Function mult was called 3 times with args (4,) and kwargs {'b': 2}\n"
          ]
        },
        {
          "data": {
            "text/plain": [
              "8"
            ]
          },
          "execution_count": 95,
          "metadata": {},
          "output_type": "execute_result"
        }
      ],
      "source": [
        "mult(4, b=2)"
      ]
    },
    {
      "cell_type": "code",
      "execution_count": 141,
      "id": "0e49f71c",
      "metadata": {},
      "outputs": [],
      "source": [
        "def fib(n):\n",
        "    print(f\"Calculating {n}\")\n",
        "    if n < 2:\n",
        "        return n\n",
        "    return fib(n-1) + fib(n-2)"
      ]
    },
    {
      "cell_type": "code",
      "execution_count": 156,
      "id": "e4f99aee",
      "metadata": {},
      "outputs": [
        {
          "name": "stdout",
          "output_type": "stream",
          "text": [
            "Calculating 3\n",
            "Calculating 2\n",
            "Calculating 1\n",
            "Calculating 0\n",
            "Calculating 1\n"
          ]
        },
        {
          "data": {
            "text/plain": [
              "2"
            ]
          },
          "execution_count": 156,
          "metadata": {},
          "output_type": "execute_result"
        }
      ],
      "source": [
        "fib(3)"
      ]
    },
    {
      "cell_type": "code",
      "execution_count": 157,
      "id": "82f18adf",
      "metadata": {},
      "outputs": [
        {
          "name": "stdout",
          "output_type": "stream",
          "text": [
            "Calculating 4\n",
            "Calculating 3\n",
            "Calculating 2\n",
            "Calculating 1\n",
            "Calculating 0\n",
            "Calculating 1\n",
            "Calculating 2\n",
            "Calculating 1\n",
            "Calculating 0\n"
          ]
        },
        {
          "data": {
            "text/plain": [
              "3"
            ]
          },
          "execution_count": 157,
          "metadata": {},
          "output_type": "execute_result"
        }
      ],
      "source": [
        "fib(4)"
      ]
    },
    {
      "cell_type": "code",
      "execution_count": 158,
      "id": "5abaefd1",
      "metadata": {},
      "outputs": [],
      "source": [
        "from functools import wraps\n",
        "\n",
        "def memoize(fn):\n",
        "    cache = dict()\n",
        "    \n",
        "    @wraps(fn)\n",
        "    def inner(n):\n",
        "        if n not in cache:\n",
        "            cache[n] = fn(n)\n",
        "        return cache[n]\n",
        "    \n",
        "    return inner"
      ]
    },
    {
      "cell_type": "code",
      "execution_count": 170,
      "id": "1787f8f1",
      "metadata": {},
      "outputs": [],
      "source": [
        "@memoize\n",
        "def fib_memo(n):\n",
        "    print(f\"Calculating {n}\")\n",
        "    if n < 2:\n",
        "        return n\n",
        "    return fib_memo(n-1) + fib_memo(n-2)"
      ]
    },
    {
      "cell_type": "code",
      "execution_count": 171,
      "id": "b80b604b",
      "metadata": {},
      "outputs": [
        {
          "name": "stdout",
          "output_type": "stream",
          "text": [
            "Calculating 3\n",
            "Calculating 2\n",
            "Calculating 1\n",
            "Calculating 0\n"
          ]
        },
        {
          "data": {
            "text/plain": [
              "2"
            ]
          },
          "execution_count": 171,
          "metadata": {},
          "output_type": "execute_result"
        }
      ],
      "source": [
        "fib_memo(3)"
      ]
    },
    {
      "cell_type": "code",
      "execution_count": 172,
      "id": "1c2f8e9d",
      "metadata": {},
      "outputs": [
        {
          "name": "stdout",
          "output_type": "stream",
          "text": [
            "Calculating 4\n"
          ]
        },
        {
          "data": {
            "text/plain": [
              "3"
            ]
          },
          "execution_count": 172,
          "metadata": {},
          "output_type": "execute_result"
        }
      ],
      "source": [
        "fib_memo(4)"
      ]
    },
    {
      "cell_type": "code",
      "execution_count": 114,
      "id": "20e782b9",
      "metadata": {},
      "outputs": [],
      "source": [
        "from functools import lru_cache"
      ]
    },
    {
      "cell_type": "code",
      "execution_count": 186,
      "id": "d267ab12",
      "metadata": {},
      "outputs": [],
      "source": [
        "@lru_cache(10)\n",
        "def fib_memo_2(n):\n",
        "    print(f\"Calculating {n}\")\n",
        "    if n < 2:\n",
        "        return n\n",
        "    return fib_memo_2(n-1) + fib_memo_2(n-2)"
      ]
    },
    {
      "cell_type": "code",
      "execution_count": 187,
      "id": "6e17756f",
      "metadata": {},
      "outputs": [
        {
          "name": "stdout",
          "output_type": "stream",
          "text": [
            "Calculating 1\n",
            "Calculating 2\n",
            "Calculating 0\n",
            "Calculating 3\n"
          ]
        },
        {
          "data": {
            "text/plain": [
              "(1, 1, 2)"
            ]
          },
          "execution_count": 187,
          "metadata": {},
          "output_type": "execute_result"
        }
      ],
      "source": [
        "fib_memo_2(1), fib_memo_2(2), fib_memo_2(3)"
      ]
    },
    {
      "cell_type": "code",
      "execution_count": 188,
      "id": "98d30af8",
      "metadata": {},
      "outputs": [
        {
          "name": "stdout",
          "output_type": "stream",
          "text": [
            "Calculating 10\n",
            "Calculating 9\n",
            "Calculating 8\n",
            "Calculating 7\n",
            "Calculating 6\n",
            "Calculating 5\n",
            "Calculating 4\n"
          ]
        },
        {
          "data": {
            "text/plain": [
              "55"
            ]
          },
          "execution_count": 188,
          "metadata": {},
          "output_type": "execute_result"
        }
      ],
      "source": [
        "fib_memo_2(10)"
      ]
    },
    {
      "cell_type": "code",
      "execution_count": 189,
      "id": "205aae0e",
      "metadata": {},
      "outputs": [
        {
          "data": {
            "text/plain": [
              "55"
            ]
          },
          "execution_count": 189,
          "metadata": {},
          "output_type": "execute_result"
        }
      ],
      "source": [
        "fib_memo_2(10)"
      ]
    },
    {
      "cell_type": "markdown",
      "id": "670e1839",
      "metadata": {},
      "source": [
        "### Generators"
      ]
    },
    {
      "cell_type": "code",
      "execution_count": 230,
      "id": "3999482e",
      "metadata": {},
      "outputs": [],
      "source": [
        "def even_numbers(start=2):\n",
        "    if start % 2 == 0:\n",
        "        number = start\n",
        "    else:\n",
        "        number = start + 1\n",
        "    while True:\n",
        "        yield number\n",
        "        number += 2"
      ]
    },
    {
      "cell_type": "code",
      "execution_count": 231,
      "id": "4a9926e0",
      "metadata": {},
      "outputs": [],
      "source": [
        "evens = even_numbers(2)"
      ]
    },
    {
      "cell_type": "code",
      "execution_count": 232,
      "id": "4cc37820",
      "metadata": {},
      "outputs": [
        {
          "data": {
            "text/plain": [
              "(2, 4)"
            ]
          },
          "execution_count": 232,
          "metadata": {},
          "output_type": "execute_result"
        }
      ],
      "source": [
        "next(evens), next(evens) "
      ]
    },
    {
      "cell_type": "code",
      "execution_count": 234,
      "id": "5baf0299",
      "metadata": {},
      "outputs": [
        {
          "name": "stdout",
          "output_type": "stream",
          "text": [
            "6\n",
            "8\n",
            "10\n",
            "12\n",
            "14\n",
            "16\n"
          ]
        }
      ],
      "source": [
        "for i, el in enumerate(evens):\n",
        "    print(el)\n",
        "    if i == 5:\n",
        "        break"
      ]
    },
    {
      "cell_type": "markdown",
      "id": "ee076ecd",
      "metadata": {},
      "source": [
        "## OOP"
      ]
    },
    {
      "cell_type": "code",
      "execution_count": 197,
      "id": "24c19b07",
      "metadata": {},
      "outputs": [],
      "source": [
        "class Person:\n",
        "    def __init__(self, name):\n",
        "        self.name = name"
      ]
    },
    {
      "cell_type": "code",
      "execution_count": 198,
      "id": "bdd243a9",
      "metadata": {},
      "outputs": [],
      "source": [
        "p = Person(\"Milen\")"
      ]
    },
    {
      "cell_type": "code",
      "execution_count": 205,
      "id": "2be5784e",
      "metadata": {},
      "outputs": [
        {
          "name": "stdout",
          "output_type": "stream",
          "text": [
            "<__main__.Person object at 0x0000023EFFCFB5E0>\n"
          ]
        }
      ],
      "source": [
        "print(p)"
      ]
    },
    {
      "cell_type": "code",
      "execution_count": 199,
      "id": "c060acd7",
      "metadata": {},
      "outputs": [
        {
          "data": {
            "text/plain": [
              "'Milen'"
            ]
          },
          "execution_count": 199,
          "metadata": {},
          "output_type": "execute_result"
        }
      ],
      "source": [
        "p.name"
      ]
    },
    {
      "cell_type": "code",
      "execution_count": 209,
      "id": "29901fce",
      "metadata": {},
      "outputs": [],
      "source": [
        "class Person:\n",
        "    def __init__(self, name):\n",
        "        self.name = name\n",
        "    def __str__(self) -> str:\n",
        "        return self.name"
      ]
    },
    {
      "cell_type": "code",
      "execution_count": 210,
      "id": "0a84d86e",
      "metadata": {},
      "outputs": [
        {
          "data": {
            "text/plain": [
              "<__main__.Person at 0x23effcfb880>"
            ]
          },
          "execution_count": 210,
          "metadata": {},
          "output_type": "execute_result"
        }
      ],
      "source": [
        "p = Person(\"Milen\")"
      ]
    },
    {
      "cell_type": "code",
      "execution_count": 211,
      "id": "68773400",
      "metadata": {},
      "outputs": [
        {
          "name": "stdout",
          "output_type": "stream",
          "text": [
            "Milen\n"
          ]
        }
      ],
      "source": [
        "print(p)"
      ]
    },
    {
      "cell_type": "code",
      "execution_count": 218,
      "id": "1b482839",
      "metadata": {},
      "outputs": [],
      "source": [
        "class Person:\n",
        "    def __init__(self, name):\n",
        "        self.name = name\n",
        "    def __str__(self) -> str:\n",
        "        return self.name\n",
        "    \n",
        "class Student(Person):\n",
        "    def __init__(self, name, student_number):\n",
        "        super().__init__(name)\n",
        "        self.student_number = student_number\n",
        "    def __str__(self) -> str:\n",
        "        return f'{super().__str__()} with student number {self.student_number}'"
      ]
    },
    {
      "cell_type": "code",
      "execution_count": 219,
      "id": "75396ea0",
      "metadata": {},
      "outputs": [],
      "source": [
        "s = Student('Ivan', 42)"
      ]
    },
    {
      "cell_type": "code",
      "execution_count": 220,
      "id": "118f2429",
      "metadata": {},
      "outputs": [
        {
          "name": "stdout",
          "output_type": "stream",
          "text": [
            "Ivan with student number 42\n"
          ]
        }
      ],
      "source": [
        "print(s)"
      ]
    },
    {
      "cell_type": "code",
      "execution_count": 221,
      "id": "33c74c20",
      "metadata": {},
      "outputs": [
        {
          "data": {
            "text/plain": [
              "'Ivan'"
            ]
          },
          "execution_count": 221,
          "metadata": {},
          "output_type": "execute_result"
        }
      ],
      "source": [
        "s.name"
      ]
    },
    {
      "cell_type": "markdown",
      "id": "021b23d1",
      "metadata": {},
      "source": [
        "### Exeptions"
      ]
    },
    {
      "cell_type": "code",
      "execution_count": 241,
      "id": "9a3a9ea7",
      "metadata": {},
      "outputs": [
        {
          "name": "stdout",
          "output_type": "stream",
          "text": [
            "division by zero\n",
            "Goodbye, world!\n"
          ]
        }
      ],
      "source": [
        "try:\n",
        "    raise 1/0\n",
        "except Exception as e:\n",
        "    print(e)\n",
        "finally:\n",
        "    print('Goodbye, world!')"
      ]
    },
    {
      "cell_type": "code",
      "execution_count": 244,
      "id": "a32cb1b0",
      "metadata": {},
      "outputs": [
        {
          "name": "stdout",
          "output_type": "stream",
          "text": [
            "division by zero\n",
            "Isn't that just infinity\n",
            "Goodbye, world!\n"
          ]
        }
      ],
      "source": [
        "try:\n",
        "    raise 1/0\n",
        "except ZeroDivisionError as e:\n",
        "    print(e)\n",
        "    print(\"Isn't that just infinity\")\n",
        "except Exception as e:\n",
        "    print(e)\n",
        "finally:\n",
        "    print('Goodbye, world!')"
      ]
    },
    {
      "cell_type": "markdown",
      "id": "7c528a20",
      "metadata": {},
      "source": [
        "### Duck typing or why sometimes it is EAFP (easier to as for forgiveness than permission)"
      ]
    },
    {
      "cell_type": "code",
      "execution_count": 247,
      "id": "d2d202b2",
      "metadata": {},
      "outputs": [],
      "source": [
        "class Duck:\n",
        "\n",
        "    def quack(self):\n",
        "        print('Quack, quack')\n",
        "\n",
        "    def fly(self):\n",
        "        print('Flap, Flap!')\n",
        "\n",
        "\n",
        "class Person:\n",
        "\n",
        "    def quack(self):\n",
        "        print(\"I'm Quacking Like a Duck!\")\n",
        "\n",
        "    def fly(self):\n",
        "        print(\"I'm Flapping my Arms!\")\n"
      ]
    },
    {
      "cell_type": "code",
      "execution_count": 248,
      "id": "aee42261",
      "metadata": {},
      "outputs": [],
      "source": [
        "duck_duck = Duck()\n",
        "duck_person = Person()"
      ]
    },
    {
      "cell_type": "code",
      "execution_count": 260,
      "id": "914be99a",
      "metadata": {},
      "outputs": [],
      "source": [
        "def quack_and_fly(thing):\n",
        "    pass\n",
        "    # Not Duck-Typed (\"Non-Pythonic\")\n",
        "    # if isinstance(thing, Duck):\n",
        "    #     thing.quack()\n",
        "    #     thing.fly()\n",
        "    # else:\n",
        "    #     print('This has to be a Duck!')\n",
        "\n",
        "    # # LBYL (\"Non-Pythonic\")\n",
        "    # if hasattr(thing, 'quack'):\n",
        "    #     if callable(thing.quack):\n",
        "    #         thing.quack()\n",
        "\n",
        "    if hasattr(thing, 'fly'):\n",
        "        try:\n",
        "            thing.quack()\n",
        "            thing.fly()\n",
        "            # thing.bark()\n",
        "        except AttributeError as e:\n",
        "            print(e)\n"
      ]
    },
    {
      "cell_type": "code",
      "execution_count": 261,
      "id": "bf17033b",
      "metadata": {},
      "outputs": [
        {
          "name": "stdout",
          "output_type": "stream",
          "text": [
            "I'm Quacking Like a Duck!\n",
            "I'm Flapping my Arms!\n"
          ]
        }
      ],
      "source": [
        "quack_and_fly(duck_person)"
      ]
    },
    {
      "cell_type": "markdown",
      "id": "9045ebe4",
      "metadata": {},
      "source": [
        "### Special (magic, Dunder) Methods"
      ]
    },
    {
      "cell_type": "code",
      "execution_count": 311,
      "id": "026f348d",
      "metadata": {},
      "outputs": [],
      "source": [
        "\n",
        "class CallMe:\n",
        "    def __init__(self, name):\n",
        "        self.name = name\n",
        "    def __call__(self, *args, **kwargs):\n",
        "        print(f\"My name is {self.name}. You called me with {args} args and {kwargs} kwargs\")"
      ]
    },
    {
      "cell_type": "code",
      "execution_count": 312,
      "id": "7dbea993",
      "metadata": {},
      "outputs": [
        {
          "name": "stdout",
          "output_type": "stream",
          "text": [
            "My name is Object. You called me with (42, 'is not enough') args and {'statements': \"I don't believe in AI\"} kwargs\n"
          ]
        }
      ],
      "source": [
        "call = CallMe(\"Object\")\n",
        "call(42, 'is not enough', statements=\"I don't believe in AI.\")"
      ]
    },
    {
      "cell_type": "code",
      "execution_count": 299,
      "id": "c1fe5dbd",
      "metadata": {},
      "outputs": [],
      "source": [
        "class Complex(object):\n",
        "    def __init__(self, real, imag=0.0):\n",
        "        self.real = real\n",
        "        self.imag = imag\n",
        "    \n",
        "    def modulus(self):\n",
        "        return float(self.real**2 + self.imag**2) ** (1/2)\n",
        "\n",
        "    def __add__(self, other):\n",
        "        if isinstance(other, Complex):\n",
        "            return Complex(self.real + other.real,\n",
        "                       self.imag + other.imag)\n",
        "        return self + Complex(other)\n",
        "             \n",
        "    def __radd__(self, other):\n",
        "        return other + self\n",
        "\n",
        "    def __sub__(self, other):\n",
        "        return Complex(self.real - other.real,\n",
        "                       self.imag - other.imag)\n",
        "\n",
        "    def __mul__(self, other):\n",
        "        return Complex(self.real*other.real - self.imag*other.imag,\n",
        "                       self.imag*other.real + self.real*other.imag)\n",
        "    def __mul__(self, other):\n",
        "        return other * self\n",
        "\n",
        "    def __div__(self, other):\n",
        "        r = other.modulus() ** 2\n",
        "        return Complex((self.real*other.real+self.imag*other.imag)/r, (self.real*other.real-self.real*other.real)/r)\n",
        "\n",
        "    def __abs__(self):\n",
        "        return self.modulus()\n",
        "\n",
        "    def __neg__(self):   # defines -c (c is Complex)\n",
        "        return Complex(-self.real, -self.imag)\n",
        "\n",
        "    def __eq__(self, other):\n",
        "        return self.real == other.real and self.imag == other.imag\n",
        "\n",
        "    def __ne__(self, other):\n",
        "        return not self.__eq__(other)\n",
        "\n",
        "    def __str__(self):\n",
        "        return f'{self.real}, {self.imag}'\n",
        "\n",
        "    def __repr__(self):\n",
        "        class_name = type(self).__name__\n",
        "        return f'Complex {str(self)}'\n",
        "\n",
        "    def __pow__(self, power):\n",
        "        raise NotImplementedError\\\n",
        "              ('self**power is not yet impl. for Complex')"
      ]
    },
    {
      "cell_type": "code",
      "execution_count": 300,
      "id": "f350bd8d",
      "metadata": {},
      "outputs": [],
      "source": [
        "c1 = Complex(1, 1)\n",
        "c2 = Complex(2, 2)"
      ]
    },
    {
      "cell_type": "code",
      "execution_count": 301,
      "id": "715ee9ff",
      "metadata": {},
      "outputs": [
        {
          "name": "stdout",
          "output_type": "stream",
          "text": [
            "3, 3\n"
          ]
        }
      ],
      "source": [
        "print(c1 + c2)"
      ]
    },
    {
      "cell_type": "code",
      "execution_count": 303,
      "id": "8b7fc037",
      "metadata": {},
      "outputs": [
        {
          "data": {
            "text/plain": [
              "Complex 6, 1.0"
            ]
          },
          "execution_count": 303,
          "metadata": {},
          "output_type": "execute_result"
        }
      ],
      "source": [
        "c1 + 5"
      ]
    },
    {
      "cell_type": "code",
      "execution_count": 302,
      "id": "1c02293a",
      "metadata": {},
      "outputs": [
        {
          "data": {
            "text/plain": [
              "Complex 3, 3"
            ]
          },
          "execution_count": 302,
          "metadata": {},
          "output_type": "execute_result"
        }
      ],
      "source": [
        "c1 + c2"
      ]
    },
    {
      "cell_type": "markdown",
      "id": "e9661ef4",
      "metadata": {
        "id": "e9661ef4"
      },
      "source": [
        "## NumPy\n",
        "NumPy is a Python library, which adds support for large, multi-dimensional arrays and matrices, along with a large collection of optimized, high-level mathematical functions to operate on these arrays."
      ]
    },
    {
      "cell_type": "markdown",
      "id": "ecdb0df8",
      "metadata": {
        "id": "ecdb0df8"
      },
      "source": [
        "You may need to install numpy first before importing it in the next cell.\n",
        "\n",
        "There are many ways to manage your packages, but the workflow we suggest for this class is to use Anaconda.\n",
        " - Download Anaconda. Create a conda environment when you work on a new project.\n",
        " - Activate your conda environment and install libraries using conda or pip if they are not available in conda.\n",
        " - If you are running scripts on command line, run inside your conda environment.\n",
        " - If you are using a Jupyter notebook, add your conda environment to your Jupyter notebook: https://towardsdatascience.com/get-your-conda-environment-to-show-in-jupyter-notebooks-the-easy-way-17010b76e874. Create your Jupyter notebook and verify you're in your conda environment kernel (top right of notebook should display the name). If you're not, go to the Kernel tab on the top left and click Change kernel to change to your conda environment kernel."
      ]
    },
    {
      "cell_type": "code",
      "execution_count": 35,
      "id": "ab7d3f32",
      "metadata": {
        "id": "ab7d3f32"
      },
      "outputs": [],
      "source": [
        "# Import numpy\n",
        "import numpy as np"
      ]
    },
    {
      "cell_type": "code",
      "execution_count": 36,
      "id": "6596eb30",
      "metadata": {
        "colab": {
          "base_uri": "https://localhost:8080/"
        },
        "id": "6596eb30",
        "outputId": "b08c870b-0e1a-4129-bfb8-b94ca4fca602",
        "scrolled": false
      },
      "outputs": [
        {
          "name": "stdout",
          "output_type": "stream",
          "text": [
            "(3,)\n",
            "(1, 3)\n",
            "\n",
            "[[6 7]\n",
            " [8 9]]\n",
            "(2, 2)\n"
          ]
        }
      ],
      "source": [
        "# Create numpy arrays from lists\n",
        "x = np.array([1,2,3])\n",
        "a = np.array([[1,2,3]])\n",
        "\n",
        "\n",
        "y = np.array([[3,4,5]])\n",
        "z = np.array([[6,7],[8,9]])\n",
        "\n",
        "# Let's take a look at their shapes.\n",
        "# When working with numpy arrays, .shape will be a very useful debugging tool\n",
        "print(x.shape)\n",
        "print(y.shape)\n",
        "print()\n",
        "print(z)\n",
        "print(z.shape)"
      ]
    },
    {
      "cell_type": "markdown",
      "id": "f4b465bf",
      "metadata": {
        "id": "f4b465bf"
      },
      "source": [
        "Vectors can be represented as 1-D arrays of shape (N,) or 2-D arrays of shape (N, 1) or (1, N). But it's important to note that the shapes (N,), (N, 1), and (1,N) are not the same and may result in different behavior (we'll see some examples below involving matrix multiplication and broadcasting).\n",
        "\n",
        "Matrices are generally represented as 2-D arrays of shape (M, N).\n",
        "\n",
        "The best way to ensure your code gives you the behavior you expect is to keep track of your array shapes and try out small test cases or refer back to documentation when you are unsure."
      ]
    },
    {
      "cell_type": "code",
      "execution_count": 37,
      "id": "A0Wl4qioLmb-",
      "metadata": {
        "colab": {
          "base_uri": "https://localhost:8080/"
        },
        "id": "A0Wl4qioLmb-",
        "outputId": "120b2e64-68d3-4f7a-e643-6b7a0a91aece"
      },
      "outputs": [
        {
          "name": "stdout",
          "output_type": "stream",
          "text": [
            "[0 1 2 3 4 5 6 7 8 9]\n",
            "\n",
            "[[0 1]\n",
            " [2 3]\n",
            " [4 5]\n",
            " [6 7]\n",
            " [8 9]]\n"
          ]
        }
      ],
      "source": [
        "a = np.arange(10)\n",
        "b = a.reshape((5, 2))\n",
        "print(a)\n",
        "print()\n",
        "print(b)"
      ]
    },
    {
      "cell_type": "markdown",
      "id": "bcb3f37c",
      "metadata": {
        "id": "bcb3f37c"
      },
      "source": [
        "### Array Operations"
      ]
    },
    {
      "cell_type": "markdown",
      "id": "18a8a694",
      "metadata": {
        "id": "18a8a694"
      },
      "source": [
        "There are many NumPy operations that can be used to reduce a numpy array along an axis.\n",
        "\n",
        "Let's look at the np.max operation (documentation: https://numpy.org/doc/stable/reference/generated/numpy.ndarray.max.html)."
      ]
    },
    {
      "cell_type": "code",
      "execution_count": 38,
      "id": "1fcf4220",
      "metadata": {
        "colab": {
          "base_uri": "https://localhost:8080/"
        },
        "id": "1fcf4220",
        "outputId": "4b63370e-2eb1-4891-9e2b-051a8484276e"
      },
      "outputs": [
        {
          "name": "stdout",
          "output_type": "stream",
          "text": [
            "[[1 2]\n",
            " [3 4]\n",
            " [5 6]]\n",
            "\n",
            "(3, 2)\n"
          ]
        }
      ],
      "source": [
        "x = np.array([[1,2],[3,4], [5, 6]])\n",
        "print(x)\n",
        "print()\n",
        "print(x.shape)"
      ]
    },
    {
      "cell_type": "code",
      "execution_count": 39,
      "id": "df82f62e",
      "metadata": {
        "colab": {
          "base_uri": "https://localhost:8080/"
        },
        "id": "df82f62e",
        "outputId": "e5dffa24-26d4-47b2-fbb4-7853d049bdee"
      },
      "outputs": [
        {
          "name": "stdout",
          "output_type": "stream",
          "text": [
            "[2 4 6]\n"
          ]
        }
      ],
      "source": [
        "print(np.max(x, axis = 1))"
      ]
    },
    {
      "cell_type": "code",
      "execution_count": 40,
      "id": "WDWPbijv7xsw",
      "metadata": {
        "colab": {
          "base_uri": "https://localhost:8080/"
        },
        "id": "WDWPbijv7xsw",
        "outputId": "a595b672-585a-4ef4-c62c-debff4c1cf61"
      },
      "outputs": [
        {
          "name": "stdout",
          "output_type": "stream",
          "text": [
            "(3,)\n"
          ]
        }
      ],
      "source": [
        "print(np.max(x, axis = 1).shape)"
      ]
    },
    {
      "cell_type": "code",
      "execution_count": 41,
      "id": "0e888b74",
      "metadata": {
        "colab": {
          "base_uri": "https://localhost:8080/"
        },
        "id": "0e888b74",
        "outputId": "3548a983-7500-4f6b-c3e9-65b1a99275fa"
      },
      "outputs": [
        {
          "name": "stdout",
          "output_type": "stream",
          "text": [
            "[[2]\n",
            " [4]\n",
            " [6]]\n"
          ]
        }
      ],
      "source": [
        "print(np.max(x, axis = 1, keepdims = True))"
      ]
    },
    {
      "cell_type": "code",
      "execution_count": 42,
      "id": "bs1NM9oR703c",
      "metadata": {
        "colab": {
          "base_uri": "https://localhost:8080/"
        },
        "id": "bs1NM9oR703c",
        "outputId": "31c8119a-2e77-4451-8f9a-d3968a4d2b60"
      },
      "outputs": [
        {
          "name": "stdout",
          "output_type": "stream",
          "text": [
            "(3, 1)\n"
          ]
        }
      ],
      "source": [
        "print(np.max(x, axis = 1, keepdims = True).shape)"
      ]
    },
    {
      "cell_type": "markdown",
      "id": "29ff27ec",
      "metadata": {
        "id": "29ff27ec"
      },
      "source": [
        "Next, let's look at some matrix operations. Let's take an element-wise product (Hadamard product)."
      ]
    },
    {
      "cell_type": "code",
      "execution_count": 43,
      "id": "25aeb52d",
      "metadata": {
        "colab": {
          "base_uri": "https://localhost:8080/"
        },
        "id": "25aeb52d",
        "outputId": "e4bfaf4f-7bfa-472e-eac7-ac2e6390c13c"
      },
      "outputs": [
        {
          "name": "stdout",
          "output_type": "stream",
          "text": [
            "[[1 2]\n",
            " [3 4]]\n",
            "[[3 3]\n",
            " [3 3]]\n",
            "---\n",
            "[[ 3  6]\n",
            " [ 9 12]]\n"
          ]
        }
      ],
      "source": [
        "A = np.array([[1, 2], [3, 4]])\n",
        "B = np.array([[3, 3], [3, 3]])\n",
        "print(A)\n",
        "print(B)\n",
        "print(\"---\")\n",
        "print(A * B)"
      ]
    },
    {
      "cell_type": "markdown",
      "id": "689f2a8d",
      "metadata": {
        "id": "689f2a8d"
      },
      "source": [
        "We can do matrix multiplication with np.matmul or @."
      ]
    },
    {
      "cell_type": "code",
      "execution_count": 44,
      "id": "c76ec303",
      "metadata": {
        "colab": {
          "base_uri": "https://localhost:8080/"
        },
        "id": "c76ec303",
        "outputId": "d36b6d3d-5cad-497b-d263-25f6107a7fd2"
      },
      "outputs": [
        {
          "name": "stdout",
          "output_type": "stream",
          "text": [
            "[[ 9  9]\n",
            " [21 21]]\n",
            "[[ 9  9]\n",
            " [21 21]]\n"
          ]
        }
      ],
      "source": [
        "# One way to do matrix multiplication\n",
        "print(np.matmul(A, B))\n",
        "\n",
        "# Another way to do matrix multiplication\n",
        "print(A @ B)"
      ]
    },
    {
      "cell_type": "markdown",
      "id": "62696957",
      "metadata": {
        "id": "62696957"
      },
      "source": [
        "We can take the dot product or a matrix vector product with np.dot."
      ]
    },
    {
      "cell_type": "code",
      "execution_count": 45,
      "id": "0caf84b9",
      "metadata": {
        "colab": {
          "base_uri": "https://localhost:8080/"
        },
        "id": "0caf84b9",
        "outputId": "a9feee27-6a8f-4e75-9ba3-243569a1e62f"
      },
      "outputs": [
        {
          "name": "stdout",
          "output_type": "stream",
          "text": [
            "321\n",
            "321\n"
          ]
        }
      ],
      "source": [
        "u = np.array([1, 2, 3])\n",
        "v = np.array([1, 10, 100])\n",
        "\n",
        "print(np.dot(u, v))\n",
        "\n",
        "# Can also call numpy operations on the numpy array, useful for chaining together multiple operations\n",
        "print(u.dot(v))"
      ]
    },
    {
      "cell_type": "code",
      "execution_count": 46,
      "id": "43e635bb",
      "metadata": {
        "colab": {
          "base_uri": "https://localhost:8080/"
        },
        "id": "43e635bb",
        "outputId": "62cb79e7-a050-4e1c-a9b8-caedbe19a441"
      },
      "outputs": [
        {
          "name": "stdout",
          "output_type": "stream",
          "text": [
            "(3,)\n",
            "(3, 2)\n",
            "[531 642]\n",
            "(2,)\n"
          ]
        }
      ],
      "source": [
        "W = np.array([[1, 2], [3, 4], [5, 6]])\n",
        "print(v.shape)\n",
        "print(W.shape)\n",
        "\n",
        "# This works.\n",
        "print(np.dot(v, W))\n",
        "print(np.dot(v, W).shape)"
      ]
    },
    {
      "cell_type": "code",
      "execution_count": 47,
      "id": "683dd6ee",
      "metadata": {
        "colab": {
          "base_uri": "https://localhost:8080/",
          "height": 217
        },
        "id": "683dd6ee",
        "outputId": "f336b678-ff97-4192-bf69-fac68817342a"
      },
      "outputs": [
        {
          "ename": "ValueError",
          "evalue": "shapes (3,2) and (3,) not aligned: 2 (dim 1) != 3 (dim 0)",
          "output_type": "error",
          "traceback": [
            "\u001b[1;31m---------------------------------------------------------------------------\u001b[0m",
            "\u001b[1;31mValueError\u001b[0m                                Traceback (most recent call last)",
            "Cell \u001b[1;32mIn[47], line 2\u001b[0m\n\u001b[0;32m      1\u001b[0m \u001b[38;5;66;03m# This does not. Why?\u001b[39;00m\n\u001b[1;32m----> 2\u001b[0m \u001b[38;5;28mprint\u001b[39m(\u001b[43mnp\u001b[49m\u001b[38;5;241;43m.\u001b[39;49m\u001b[43mdot\u001b[49m\u001b[43m(\u001b[49m\u001b[43mW\u001b[49m\u001b[43m,\u001b[49m\u001b[43m \u001b[49m\u001b[43mv\u001b[49m\u001b[43m)\u001b[49m)\n",
            "File \u001b[1;32m<__array_function__ internals>:180\u001b[0m, in \u001b[0;36mdot\u001b[1;34m(*args, **kwargs)\u001b[0m\n",
            "\u001b[1;31mValueError\u001b[0m: shapes (3,2) and (3,) not aligned: 2 (dim 1) != 3 (dim 0)"
          ]
        }
      ],
      "source": [
        "# This does not. Why?\n",
        "print(np.dot(W, v))"
      ]
    },
    {
      "cell_type": "code",
      "execution_count": 38,
      "id": "9e8b2184",
      "metadata": {
        "colab": {
          "base_uri": "https://localhost:8080/"
        },
        "id": "9e8b2184",
        "outputId": "b89a0299-edda-47fb-87a5-1b28b85b5242"
      },
      "outputs": [
        {
          "name": "stdout",
          "output_type": "stream",
          "text": [
            "[531 642]\n",
            "(2,)\n"
          ]
        }
      ],
      "source": [
        "# We can fix the above issue by transposing W.\n",
        "print(np.dot(W.T, v))\n",
        "print(np.dot(W.T, v).shape)"
      ]
    },
    {
      "cell_type": "markdown",
      "id": "c13199d8",
      "metadata": {
        "id": "c13199d8"
      },
      "source": [
        "###  Indexing"
      ]
    },
    {
      "cell_type": "markdown",
      "id": "d3d3d5c2",
      "metadata": {
        "id": "d3d3d5c2"
      },
      "source": [
        "Slicing / indexing numpy arrays is a extension of the Python concept of slicing (lists) to N dimensions."
      ]
    },
    {
      "cell_type": "code",
      "execution_count": 39,
      "id": "bb930e29",
      "metadata": {
        "colab": {
          "base_uri": "https://localhost:8080/"
        },
        "id": "bb930e29",
        "outputId": "6bc7bcbe-3313-456b-c4e2-a542d4a63a06",
        "scrolled": true
      },
      "outputs": [
        {
          "name": "stdout",
          "output_type": "stream",
          "text": [
            "[[0.72911546 0.60028083 0.34112318 0.04628585]\n",
            " [0.39061284 0.55989781 0.59768014 0.27299391]\n",
            " [0.07681211 0.02859183 0.2518763  0.02461059]]\n"
          ]
        }
      ],
      "source": [
        "x = np.random.random((3, 4))\n",
        "\n",
        "# Selects all of x\n",
        "print(x[:])"
      ]
    },
    {
      "cell_type": "code",
      "execution_count": 40,
      "id": "16d0fe9a",
      "metadata": {
        "colab": {
          "base_uri": "https://localhost:8080/"
        },
        "id": "16d0fe9a",
        "outputId": "07b3702f-64f6-437f-8b5d-26d72ffd1d00"
      },
      "outputs": [
        {
          "name": "stdout",
          "output_type": "stream",
          "text": [
            "[[0.72911546 0.60028083 0.34112318 0.04628585]\n",
            " [0.07681211 0.02859183 0.2518763  0.02461059]]\n",
            "---\n",
            "[0.55989781 0.59768014]\n"
          ]
        }
      ],
      "source": [
        "# Selects the 0th and 2nd rows\n",
        "print(x[np.array([0, 2]), :])\n",
        "\n",
        "print(\"---\")\n",
        "\n",
        "# Selects 1st row as 1-D vector and and 1st through 2nd elements\n",
        "print(x[1, 1:3])"
      ]
    },
    {
      "cell_type": "code",
      "execution_count": 41,
      "id": "04bf1911",
      "metadata": {
        "colab": {
          "base_uri": "https://localhost:8080/"
        },
        "id": "04bf1911",
        "outputId": "9fa8d581-f646-46cf-a752-f01a1ced48ca"
      },
      "outputs": [
        {
          "name": "stdout",
          "output_type": "stream",
          "text": [
            "[0.72911546 0.60028083 0.55989781 0.59768014]\n"
          ]
        }
      ],
      "source": [
        "# Boolean indexing\n",
        "print(x[x > 0.5])"
      ]
    },
    {
      "cell_type": "code",
      "execution_count": 42,
      "id": "118924a3",
      "metadata": {
        "colab": {
          "base_uri": "https://localhost:8080/"
        },
        "id": "118924a3",
        "outputId": "79d5d19b-1230-4728-8f6e-039aa56fe7f0"
      },
      "outputs": [
        {
          "name": "stdout",
          "output_type": "stream",
          "text": [
            "[[[0.72911546]\n",
            "  [0.60028083]\n",
            "  [0.34112318]\n",
            "  [0.04628585]]\n",
            "\n",
            " [[0.39061284]\n",
            "  [0.55989781]\n",
            "  [0.59768014]\n",
            "  [0.27299391]]\n",
            "\n",
            " [[0.07681211]\n",
            "  [0.02859183]\n",
            "  [0.2518763 ]\n",
            "  [0.02461059]]]\n"
          ]
        }
      ],
      "source": [
        "# 3-D vector of shape (3, 4, 1)\n",
        "print(x[:, :, np.newaxis])"
      ]
    },
    {
      "cell_type": "markdown",
      "id": "48e1704f",
      "metadata": {
        "id": "48e1704f"
      },
      "source": [
        "### Broadcasting"
      ]
    },
    {
      "cell_type": "markdown",
      "id": "40d35521",
      "metadata": {
        "id": "40d35521"
      },
      "source": [
        "The term broadcasting describes how NumPy treats arrays with different shapes during arithmetic operations.\n",
        "\n",
        "**General Broadcasting Rules**\n",
        "\n",
        "When operating on two arrays, NumPy compares their shapes element-wise. It starts with the trailing (i.e. rightmost) dimensions and works its way left. Two dimensions are compatible when:\n",
        "- they are equal, or\n",
        "- one of them is 1 (in which case, elements on the axis are repeated along the dimension)\n",
        "\n",
        "More details: https://numpy.org/doc/stable/user/basics.broadcasting.html"
      ]
    },
    {
      "cell_type": "code",
      "execution_count": 43,
      "id": "e3f0c8b1",
      "metadata": {
        "id": "e3f0c8b1"
      },
      "outputs": [],
      "source": [
        "x = np.random.random((3, 4))\n",
        "\n",
        "y = np.random.random((3, 1))\n",
        "z = np.random.random((1, 4))\n",
        "\n",
        "# In this example, y and z are broadcasted to match the shape of x.\n",
        "# y is broadcasted along dim 1.\n",
        "s = x + y\n",
        "# z is broadcasted along dim 0.\n",
        "p = x * z"
      ]
    },
    {
      "cell_type": "code",
      "execution_count": 44,
      "id": "93cdfc8a",
      "metadata": {
        "colab": {
          "base_uri": "https://localhost:8080/"
        },
        "id": "93cdfc8a",
        "outputId": "a350d379-ffc0-4366-d430-1e04af352fac"
      },
      "outputs": [
        {
          "name": "stdout",
          "output_type": "stream",
          "text": [
            "(3, 4)\n",
            "\n",
            "(3, 1)\n",
            "(3, 4)\n"
          ]
        }
      ],
      "source": [
        "print(x.shape)\n",
        "print()\n",
        "print(y.shape)\n",
        "print(s.shape)"
      ]
    },
    {
      "cell_type": "code",
      "execution_count": 45,
      "id": "a77b76bc",
      "metadata": {
        "colab": {
          "base_uri": "https://localhost:8080/"
        },
        "id": "a77b76bc",
        "outputId": "e7086c7a-51b8-45a7-838f-4d7f270e2bcd"
      },
      "outputs": [
        {
          "name": "stdout",
          "output_type": "stream",
          "text": [
            "(3, 4)\n",
            "\n",
            "(3, 4)\n",
            "(3, 4)\n"
          ]
        }
      ],
      "source": [
        "print(x.shape)\n",
        "print()\n",
        "print(s.shape)\n",
        "print(p.shape)"
      ]
    },
    {
      "cell_type": "code",
      "execution_count": 46,
      "id": "FICMa8RiMR08",
      "metadata": {
        "colab": {
          "base_uri": "https://localhost:8080/"
        },
        "id": "FICMa8RiMR08",
        "outputId": "38f90bfd-f567-4e14-d18e-d54ac7a23d79"
      },
      "outputs": [
        {
          "name": "stdout",
          "output_type": "stream",
          "text": [
            "[[0. 0. 0.]\n",
            " [0. 0. 0.]\n",
            " [0. 0. 0.]]\n",
            "\n",
            "[[1. 2. 3.]\n",
            " [1. 2. 3.]\n",
            " [1. 2. 3.]]\n"
          ]
        }
      ],
      "source": [
        "a = np.zeros((3, 3))\n",
        "b = np.array([[1, 2, 3]])\n",
        "print(a)\n",
        "print()\n",
        "print(a+b)"
      ]
    },
    {
      "cell_type": "markdown",
      "id": "fec8ae1e",
      "metadata": {
        "id": "fec8ae1e"
      },
      "source": [
        "Let's look at a more complex example."
      ]
    },
    {
      "cell_type": "code",
      "execution_count": 47,
      "id": "2b1b271d",
      "metadata": {
        "id": "2b1b271d"
      },
      "outputs": [],
      "source": [
        "a = np.random.random((3, 4))\n",
        "b = np.random.random((3, 1))\n",
        "c = np.random.random((3, ))"
      ]
    },
    {
      "cell_type": "markdown",
      "id": "972fda59",
      "metadata": {
        "id": "972fda59"
      },
      "source": [
        "What is the expected broadcasting behavior for these operations? What do the following operations give us? What are the resulting shapes?"
      ]
    },
    {
      "cell_type": "code",
      "execution_count": 48,
      "id": "ab0e1d5b",
      "metadata": {
        "colab": {
          "base_uri": "https://localhost:8080/"
        },
        "id": "ab0e1d5b",
        "outputId": "95735143-16d4-4d23-994c-3220e7caa718"
      },
      "outputs": [
        {
          "name": "stdout",
          "output_type": "stream",
          "text": [
            "(3, 1)\n",
            "(1, 3)\n",
            "(3, 3)\n",
            "[[0.38107631 0.40825014 1.13208597]\n",
            " [0.40825014 0.43542398 1.1592598 ]\n",
            " [1.13208597 1.1592598  1.88309563]]\n"
          ]
        }
      ],
      "source": [
        "result1 = b + b.T\n",
        "\n",
        "print(b.shape)\n",
        "print(b.T.shape)\n",
        "print(result1.shape)\n",
        "print(result1)"
      ]
    },
    {
      "cell_type": "code",
      "execution_count": 49,
      "id": "d7e113be",
      "metadata": {
        "colab": {
          "base_uri": "https://localhost:8080/",
          "height": 235
        },
        "id": "d7e113be",
        "outputId": "67f13069-0f4c-4230-a3e7-05ba480acb73",
        "scrolled": true
      },
      "outputs": [
        {
          "ename": "ValueError",
          "evalue": "operands could not be broadcast together with shapes (3,4) (3,) ",
          "output_type": "error",
          "traceback": [
            "\u001b[1;31m---------------------------------------------------------------------------\u001b[0m",
            "\u001b[1;31mValueError\u001b[0m                                Traceback (most recent call last)",
            "Cell \u001b[1;32mIn[49], line 1\u001b[0m\n\u001b[1;32m----> 1\u001b[0m result2 \u001b[38;5;241m=\u001b[39m \u001b[43ma\u001b[49m\u001b[43m \u001b[49m\u001b[38;5;241;43m+\u001b[39;49m\u001b[43m \u001b[49m\u001b[43mc\u001b[49m\n\u001b[0;32m      3\u001b[0m \u001b[38;5;28mprint\u001b[39m(a\u001b[38;5;241m.\u001b[39mshape)\n\u001b[0;32m      4\u001b[0m \u001b[38;5;28mprint\u001b[39m(c\u001b[38;5;241m.\u001b[39mshape)\n",
            "\u001b[1;31mValueError\u001b[0m: operands could not be broadcast together with shapes (3,4) (3,) "
          ]
        }
      ],
      "source": [
        "result2 = a + c\n",
        "\n",
        "print(a.shape)\n",
        "print(c.shape)\n",
        "print(result2.shape)\n",
        "print(result2)"
      ]
    },
    {
      "cell_type": "code",
      "execution_count": 50,
      "id": "e91c0c70",
      "metadata": {
        "colab": {
          "base_uri": "https://localhost:8080/"
        },
        "id": "e91c0c70",
        "outputId": "0a6f644c-9e73-43e9-9215-207a8f3f7dc2"
      },
      "outputs": [
        {
          "name": "stdout",
          "output_type": "stream",
          "text": [
            "(3, 1)\n",
            "(3,)\n",
            "(3, 3)\n",
            "[[0.46443248 1.00498129 0.96563004]\n",
            " [0.49160631 1.03215513 0.99280387]\n",
            " [1.21544213 1.75599095 1.7166397 ]]\n"
          ]
        }
      ],
      "source": [
        "result3 = b + c\n",
        "\n",
        "print(b.shape)\n",
        "print(c.shape)\n",
        "print(result3.shape)\n",
        "print(result3)"
      ]
    },
    {
      "cell_type": "markdown",
      "id": "0a845479",
      "metadata": {
        "id": "0a845479"
      },
      "source": [
        "### Efficient NumPy Code"
      ]
    },
    {
      "cell_type": "markdown",
      "id": "55c8d74f",
      "metadata": {
        "id": "55c8d74f"
      },
      "source": [
        "When working with numpy arrays, avoid explicit for-loops over indices/axes at all costs. For-loops will dramatically slow down your code (~10-100x)."
      ]
    },
    {
      "cell_type": "markdown",
      "id": "e1285d83",
      "metadata": {
        "id": "e1285d83"
      },
      "source": [
        "We can time code using the %%timeit magic. Let's compare using explicit for-loop vs. using numpy operations."
      ]
    },
    {
      "cell_type": "code",
      "execution_count": 51,
      "id": "ba02c912",
      "metadata": {
        "colab": {
          "base_uri": "https://localhost:8080/"
        },
        "id": "ba02c912",
        "outputId": "62191287-3cdf-420a-c4e9-c7bcac31ad57"
      },
      "outputs": [
        {
          "name": "stdout",
          "output_type": "stream",
          "text": [
            "158 ms ± 2.8 ms per loop (mean ± std. dev. of 7 runs, 10 loops each)\n"
          ]
        }
      ],
      "source": [
        "%%timeit\n",
        "x = np.random.rand(1000, 1000)\n",
        "for i in range(100, 1000):\n",
        "    for j in range(x.shape[1]):\n",
        "        x[i, j] += 5"
      ]
    },
    {
      "cell_type": "code",
      "execution_count": 52,
      "id": "3c96fc83",
      "metadata": {
        "colab": {
          "base_uri": "https://localhost:8080/"
        },
        "id": "3c96fc83",
        "outputId": "95c8a7c3-638c-4c2a-8f86-51492f60d85f"
      },
      "outputs": [
        {
          "name": "stdout",
          "output_type": "stream",
          "text": [
            "7.32 ms ± 141 µs per loop (mean ± std. dev. of 7 runs, 100 loops each)\n"
          ]
        }
      ],
      "source": [
        "%%timeit\n",
        "x = np.random.rand(1000, 1000)\n",
        "x[np.arange(100,1000), :] += 5"
      ]
    },
    {
      "cell_type": "code",
      "execution_count": null,
      "id": "72b832dd",
      "metadata": {
        "id": "72b832dd"
      },
      "outputs": [],
      "source": []
    }
  ],
  "metadata": {
    "colab": {
      "provenance": []
    },
    "kernelspec": {
      "display_name": "base",
      "language": "python",
      "name": "python3"
    },
    "language_info": {
      "codemirror_mode": {
        "name": "ipython",
        "version": 3
      },
      "file_extension": ".py",
      "mimetype": "text/x-python",
      "name": "python",
      "nbconvert_exporter": "python",
      "pygments_lexer": "ipython3",
      "version": "3.9.18"
    }
  },
  "nbformat": 4,
  "nbformat_minor": 5
}
