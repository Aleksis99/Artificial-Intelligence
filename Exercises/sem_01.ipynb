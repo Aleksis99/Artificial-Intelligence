{
 "cells": [
  {
   "cell_type": "markdown",
   "metadata": {},
   "source": [
    "# Evaluation\n",
    "\n",
    "## • Ongoing Assessment (50%)\n",
    "\n",
    "- Test 1 ≈ ⅓ (at least 3.00)\n",
    "- Test 2 ≈ ⅓ (at least 3.00)\n",
    "- Homeworks ≈ ⅓ (at least 3.00 from at least 5 tasks)\n",
    "\n",
    "## • Exam (50%)\n",
    "\n",
    "- Project Presentation ≈ ⅔ (optional)\n",
    "- Interview (final assessment) ≈ ⅓\n",
    "- The evaluation is more like a point system - for excellent you do not need to\n",
    "collect the maximum number of points._\n"
   ]
  },
  {
   "cell_type": "markdown",
   "metadata": {},
   "source": [
    "\n",
    "# Exercises' Topics\n",
    "\n",
    "10 𝑇𝑜𝑝𝑖𝑐𝑠= 𝑓𝑟𝑜𝑚Homeworks^8 𝑡𝑜^10\n",
    "\n",
    "- Problem Solving and Search\n",
    "    - Uninformed _(Blind)_ Search\n",
    "    - Informed _(Heuristic)_ Search\n",
    "    - Constraint Satisfaction Problems\n",
    "    - Genetic Algorithms\n",
    "    - Games\n",
    "- Machine Learning\n",
    "    - _k_ - Nearest Neighbors\n",
    "    - Naïve Bayes Classifier\n",
    "    - Decision Tree\n",
    "    - _k_ Means\n",
    "    - Neural Networks\n",
    "\n",
    "# Exercises by Week\n",
    "\n",
    "1. Introduction, Recap and Uninformed (Blind) Search\n",
    "2. Informed (Heuristic) Search\n",
    "3. Constraint Satisfaction Problems\n",
    "4. Genetic Algorithms\n",
    "5. Games\n",
    "6. Introduction to Machine Learning\n",
    "7. k-Nearest Neighbors\n",
    "8. Naïve Bayes Classifier\n",
    "9.  Decision Tree\n",
    "10. kMeans\n",
    "11. Neural Networks\n"
   ]
  },
  {
   "cell_type": "markdown",
   "metadata": {},
   "source": [
    "# Resources\n",
    "\n",
    "## The Main Book\n",
    "\n",
    "- Stuart Russell and Peter Norvig. Artificial\n",
    "\n",
    "#### Intelligence: A Modern Approach. Prentice Hall.\n",
    "\n",
    "- [http://aima.eecs.berkeley.edu/](http://aima.eecs.berkeley.edu/)\n",
    "\n",
    "#### Lectures, Exercises and all other resources at Moodle\n",
    "\n",
    "# Problem Solving and Search\n",
    "\n",
    "## Basic Concepts\n",
    "\n",
    "- State Space\n",
    "- Representation of the State Space\n",
    "- Search Strategies Evaluation\n",
    "- Global Search vs Local Search\n",
    "- Uninformed Search vs Informed Search\n",
    "- Graph and Tree Traversal\n"
   ]
  },
  {
   "cell_type": "markdown",
   "metadata": {},
   "source": [
    "# State Space\n",
    "\n",
    "- **State** : a representation (formulation) of the task in the process of its solution.\n",
    "\n",
    "- **Initial State** (presented with **_S_** )\n",
    "- **Intermediate State** (presented with any capital letter except **_S_** and **_G_** )\n",
    "- **Goal State** (presented with **_G_** , if there are more: **_G 1_** , **_G 2_** , etc.)\n",
    "- **Successor Function** **_(Operator)_** : obtaining one state from another\n",
    "\n",
    "- **Path Cost** : additive; e.g., sum of distances, number of actions executed, etc.\n",
    "\n",
    "- **State Space** : the totality of all possible states that can be obtained from a given initial state.^\n",
    "\n",
    "- **A _solution_** _is a sequence of actions leading from the initial state to a goal state_\n",
    "\n"
   ]
  },
  {
   "cell_type": "markdown",
   "metadata": {},
   "source": [
    "# Representation of the State Space\n",
    "\n",
    "- Graph or Tree where each state is represented with Node and the successor function (operator) is represented with Edge.\n",
    "\n",
    "- When the state space can be represented as a tree , it is called Search Tree. The _initial state_ is the _root_ of the tree.The terminal states and the _goal state_ are epresented with leaves.\n"
   ]
  },
  {
   "cell_type": "markdown",
   "metadata": {},
   "source": [
    "# Search Strategies Evaluation Strategies are evaluated along the following dimensions:\n",
    "\n",
    "- **Completeness** : does it always find a solution if one exists?\n",
    "- **Time Complexity** : number of nodes generated/expanded\n",
    "- **Space Complexity** : maximum number of nodes in memory\n",
    "- **Optimality** : does it always find a least-cost solution?\n",
    "\n",
    "# We look at the_ **_worst-case_** _complexity (Big O notation)._ Time and space complexity are measured in terms of:\n",
    "\n",
    "- **_b_** – maximum branching factor of the search tree\n",
    "- **_d_** – depth of the least-cost solution\n",
    "- **_m_** – maximum depth of the state space (may be ∞)"
   ]
  },
  {
   "cell_type": "markdown",
   "metadata": {},
   "source": [
    "# Global Search vs Local Search\n",
    "\n",
    "- Global Search : They look all over the state space. If necessary, all states will be traversed.\n",
    "\n",
    "- Local Search : They only look at the local area, so they can only look at states in this area. If the solution is outside of it, they will not be able to find it.\n",
    "\n",
    "_* Generally Local Search is not used for finding a path from state\n",
    "A to state B._\n",
    "\n",
    "\n",
    "## Uninformed (Blind) Search vs Informed (Heuristic) Search - **Uninformed Search** : Uninformed strategies use only the information available in the problem definition.\n",
    "\n",
    "- _Examples: DFS, BFS, UCS, DLS, IDS._\n",
    "\n",
    "## Informed Search: Informed strategies have information on the goal state which helps in more efficient searching. This information is obtained by a function (heuristic) that estimates how close a state is to the goal state.\n",
    "\n",
    "### Examples: Greedy Best-First Search, A*, Beam Search, Hill Climbing.\n",
    "\n"
   ]
  },
  {
   "cell_type": "markdown",
   "metadata": {},
   "source": [
    "# Local Search\n",
    "\n",
    "- **Local Search** in _Artificial Intelligence_ is an optimizing\n",
    "    algorithm to find the optimal solution more quickly.\n",
    "- **Local search algorithms** are used when we care only about\n",
    "    a solution but not the path to a solution.\n",
    "- **Local search** is a heuristic method for solving\n",
    "    computationally hard optimization problems.\n",
    "- **Local search** can be used on problems that can be\n",
    "    formulated as finding a solution maximizing a criterion\n",
    "    among a number of candidate solutions.\n",
    "- **Local search algorithms** move from solution to solution in\n",
    "    the space of candidate solutions (the search space) by\n",
    "    applying local changes, until a solution deemed optimal is\n",
    "    found or a time bound is elapsed.\n",
    "\n"
   ]
  },
  {
   "cell_type": "markdown",
   "metadata": {},
   "source": [
    "\n",
    "## Uninformed (Blind) Search vs Informed (Heuristic) Search\n",
    "\n",
    "### Uninformed Search: Uninformed strategies use  only the information available in the problem definition.\n",
    "\n",
    "- _Examples: DFS, BFS, UCS, DLS, IDS._\n",
    "### Informed Search: Informed strategies have information on the goal state which helps in more efficient searching. This information is obtained by a function (heuristic) that estimates how close a state is to the goal state.\n",
    "\n",
    "- _Examples: Greedy Best-First Search, A*, Beam Search,_\n"
   ]
  },
  {
   "cell_type": "code",
   "execution_count": 1,
   "metadata": {},
   "outputs": [],
   "source": [
    "from dataclasses import dataclass\n",
    "from typing import Any\n",
    "from collections import defaultdict\n",
    "\n",
    "import heapq\n",
    "from IPython.display import clear_output\n",
    "\n",
    "@dataclass\n",
    "class Node:\n",
    "    value: Any = 'no'\n",
    "    heuristic: float = 0\n",
    "    color: str = 'white'\n",
    "\n",
    "\n",
    "@dataclass\n",
    "class Graph:\n",
    "    nodes: Any\n",
    "    edges: Any\n",
    "\n",
    "def make_graph(nodes, edges):\n",
    "    nodes = {v: Node(value=v, heuristic=h) for v, h in nodes}\n",
    "    \n",
    "    undirected_edges = defaultdict(list)\n",
    "    for node, children in edges.items():\n",
    "        for child, weight in children:\n",
    "            undirected_edges[node].append((child, weight))\n",
    "            undirected_edges[child].append((node, weight))\n",
    "    \n",
    "    return Graph(nodes=nodes, edges=undirected_edges)"
   ]
  },
  {
   "cell_type": "code",
   "execution_count": 2,
   "metadata": {},
   "outputs": [],
   "source": [
    "import networkx as nx\n",
    "import matplotlib.pyplot as plt\n",
    "import time\n",
    "\n",
    "\n",
    "def draw_spring_graph(graph, seed=1, figsize=(8, 8)):\n",
    "    nodes = graph.nodes.values()\n",
    "    edges = []\n",
    "    for node, children in graph.edges.items():\n",
    "        for c, weight in children:\n",
    "            edges.append((node, c, weight))\n",
    "        \n",
    "    G = nx.Graph()\n",
    "    for n in nodes:\n",
    "        G.add_node(n.value)\n",
    "\n",
    "    for f, t, _ in edges:\n",
    "        G.add_edge(f, t)\n",
    "\n",
    "    pos = nx.spring_layout(G, seed=seed)\n",
    "\n",
    "    plt.figure(figsize=figsize)\n",
    "\n",
    "    nx.draw_networkx_edges(G, pos, alpha=1, width=3)\n",
    "    nx.draw_networkx_nodes(\n",
    "        G,\n",
    "        pos,\n",
    "        nodelist=[n.value for n in nodes],\n",
    "        node_size=1500,\n",
    "        node_color=[n.color for n in nodes],\n",
    "        edgecolors = 'black',\n",
    "        linewidths = 1\n",
    "    )\n",
    "    nx.draw_networkx_labels(\n",
    "        G,\n",
    "        pos,\n",
    "        labels={n.value: f'{n.value}({n.heuristic})' for n in nodes},\n",
    "        font_size=12,\n",
    "        font_color='black',\n",
    "        font_weight='bold'\n",
    "    )\n",
    "\n",
    "    edge_labels = dict([((n1, n2), f'{w}') for n1, n2, w in edges])\n",
    "    nx.draw_networkx_edge_labels(G, pos, edge_labels=edge_labels, \n",
    "    label_pos=0.5,\n",
    "    font_size=15)\n",
    "\n",
    "    # Set margins for the axes so that nodes aren't clipped\n",
    "\n",
    "    ax = plt.gca()\n",
    "    ax.margins(0.1)\n",
    "    plt.axis(\"off\")\n",
    "    plt.show()\n",
    "\n",
    "\n",
    "def display_graph(g, current, end):\n",
    "    old_color_curr = g.nodes[current].color\n",
    "    g.nodes[current].color = 'red'\n",
    "    draw_spring_graph(g, seed=100, figsize=(16, 10))\n",
    "    g.nodes[current].color = old_color_curr"
   ]
  },
  {
   "cell_type": "code",
   "execution_count": 3,
   "metadata": {},
   "outputs": [],
   "source": [
    "g = make_graph(\n",
    "    nodes=[('A', 0), ('B', 0), ('C', 0), ('D', 0), ('S', 0), ('G', 0)],\n",
    "    edges={\n",
    "        'S': [('C', 14), ('B', 9), ('A', 7)],\n",
    "        'A': [('B', 10), ('D', 15)],\n",
    "        'B': [('C', 2), ('D', 11)],\n",
    "        'C': [('G', 9)],\n",
    "        'D': [('G', 6)],\n",
    "    }\n",
    ")"
   ]
  },
  {
   "cell_type": "code",
   "execution_count": 4,
   "metadata": {},
   "outputs": [],
   "source": [
    "# g.nodes['S'].color = 'red'\n",
    "# g.nodes['G'].color = 'green'"
   ]
  },
  {
   "cell_type": "code",
   "execution_count": 5,
   "metadata": {},
   "outputs": [],
   "source": [
    "def resetColor(g):\n",
    "    for _, node in g.nodes.items():\n",
    "        node.color = 'white'"
   ]
  },
  {
   "cell_type": "code",
   "execution_count": 6,
   "metadata": {},
   "outputs": [
    {
     "data": {
      "image/png": "[encoded data removed]",
      "text/plain": [
       "<Figure size 1600x800 with 1 Axes>"
      ]
     },
     "metadata": {},
     "output_type": "display_data"
    }
   ],
   "source": [
    "draw_spring_graph(g, seed=100, figsize=(16, 8))"
   ]
  },
  {
   "cell_type": "markdown",
   "metadata": {},
   "source": [
    "## Legend\n",
    "- front gray\n",
    "- visited blue\n",
    "- current red\n",
    "- goal green"
   ]
  },
  {
   "cell_type": "markdown",
   "metadata": {},
   "source": [
    "## DFS"
   ]
  },
  {
   "cell_type": "code",
   "execution_count": 7,
   "metadata": {},
   "outputs": [],
   "source": [
    "def dfsRecVisit(g, curr, end, parents):\n",
    "    pass\n"
   ]
  },
  {
   "cell_type": "code",
   "execution_count": 8,
   "metadata": {},
   "outputs": [],
   "source": [
    "def dfsRec(g, start, end):\n",
    "    pass"
   ]
  },
  {
   "cell_type": "code",
   "execution_count": 9,
   "metadata": {},
   "outputs": [],
   "source": [
    "resetColor(g)\n",
    "dfsRec(g, \"S\", \"G\")"
   ]
  },
  {
   "cell_type": "code",
   "execution_count": 10,
   "metadata": {},
   "outputs": [],
   "source": [
    "def dfs(g, start, end):\n",
    "    pass"
   ]
  },
  {
   "cell_type": "code",
   "execution_count": 11,
   "metadata": {},
   "outputs": [],
   "source": [
    "resetColor(g)\n",
    "dfs(g, \"S\", \"G\")"
   ]
  },
  {
   "cell_type": "markdown",
   "metadata": {},
   "source": [
    "# Depth-First Search (DFS)\n",
    "\n",
    "- **_Complete?_**\n",
    "    - **_No_** : fails in infinite-depth spaces, spaces with loops\n",
    "    Modify to avoid repeated states along path\n",
    "    ⇒ _complete in finite spaces_\n",
    "- **_Optimal?_**\n",
    "    - **_No_**\n",
    "- **_Time?_**\n",
    "    - **_O(b<sup>m</sup>)_** : terrible if **_m_** is much larger than **_d_**\n",
    "    but if solutions are dense, may be much faster than\n",
    "    _breadth-first_\n",
    "- **_Space?_**\n",
    "- **_O(bm)_** , i.e., _linear space!_^"
   ]
  },
  {
   "cell_type": "markdown",
   "metadata": {},
   "source": [
    "## BFS"
   ]
  },
  {
   "cell_type": "code",
   "execution_count": 12,
   "metadata": {},
   "outputs": [],
   "source": [
    "def bfs(g, start, end):\n",
    "    pass"
   ]
  },
  {
   "cell_type": "code",
   "execution_count": 13,
   "metadata": {},
   "outputs": [],
   "source": [
    "resetColor(g)\n",
    "bfs(g, \"S\", \"G\")"
   ]
  },
  {
   "cell_type": "markdown",
   "metadata": {},
   "source": [
    "# Breadth-First Search (BFS)\n",
    "\n",
    "## • Complete?\n",
    "\n",
    "- **_Yes_** (if **_b_** is finite)\n",
    "\n",
    "## • Optimal?\n",
    "\n",
    "- **_Yes_** _(if cost = 1 per step);_ not optimal in general\n",
    "\n",
    "## • Time?\n",
    "\n",
    "- **_1 + b + b<sup>2</sup>_+ b<sup>3</sup> +... + b<sup>d</sup> + b<sup>(bd − 1)</sup> = O(b<sup>d + 1</sup>)** _, i.e., exp._ in d\n",
    "\n",
    "## • Space?\n",
    "\n",
    "- **_O(b<sup>d+1</sup>)_** (keeps every node in memory)^"
   ]
  },
  {
   "cell_type": "markdown",
   "metadata": {},
   "source": [
    "# DLS"
   ]
  },
  {
   "cell_type": "code",
   "execution_count": 14,
   "metadata": {},
   "outputs": [],
   "source": [
    "# we dont need to check for loops\n",
    "def dls(g, curr, end, max_depth):\n",
    "    pass"
   ]
  },
  {
   "cell_type": "code",
   "execution_count": 15,
   "metadata": {},
   "outputs": [],
   "source": [
    "resetColor(g)\n",
    "dls(g, \"S\", \"G\", 15)"
   ]
  },
  {
   "cell_type": "markdown",
   "metadata": {},
   "source": [
    "# Depth-Limited Search (DLS)\n",
    "\n",
    "_“_ **_DLS_** _= depth-first search with depth limit_ **_l_** _, i.e., nodes at\n",
    "depth_ **_l_** _have no successors”_\n",
    "\n",
    "- **_Complete?_**\n",
    "    - **_Yes_** , if _l ≥ d_\n",
    "- **_Optimal?_**\n",
    "    - **_No_**\n",
    "- **_Time?_**\n",
    "    - **_O(b<sup>l</sup>)_**\n",
    "- **_Space?_**\n",
    "    - **_O(bl)_**"
   ]
  },
  {
   "cell_type": "markdown",
   "metadata": {},
   "source": [
    "# IDS"
   ]
  },
  {
   "cell_type": "code",
   "execution_count": 16,
   "metadata": {},
   "outputs": [],
   "source": [
    "def IDS(g, start, end):\n",
    "    pass"
   ]
  },
  {
   "cell_type": "code",
   "execution_count": 17,
   "metadata": {},
   "outputs": [],
   "source": [
    "resetColor(g)\n",
    "IDS(g, \"S\", \"G\")"
   ]
  },
  {
   "cell_type": "markdown",
   "metadata": {},
   "source": [
    "# Iterative Deepening Search (IDS)\n",
    "\n",
    "## • Complete?\n",
    "\n",
    "- **_Yes_**\n",
    "\n",
    "## • Optimal?\n",
    "\n",
    "- **_Yes_** , if _step cost = 1_ (Can be modified to explore uniform-cost tree)\n",
    "\n",
    "## • Time?\n",
    "\n",
    "- **_(d + 1)b_**<sup>0</sup> **_+ db_**<sup>1</sup> **_+ (d − 1)b_**<sup>2</sup> **_+... + b<sup>d</sup> = O(b<sup>d</sup>)_**\n",
    "\n",
    "## • Space?\n",
    "\n",
    "- **_O(bd)_** , i.e., _linear space!_\n",
    "- **_O(b<sup>m</sup>)_** : if modified to avoid repeated states \n"
   ]
  },
  {
   "cell_type": "markdown",
   "metadata": {},
   "source": [
    "# UCS"
   ]
  },
  {
   "cell_type": "code",
   "execution_count": 18,
   "metadata": {},
   "outputs": [],
   "source": [
    "def relax(dist, x, y, w):\n",
    "    pass"
   ]
  },
  {
   "cell_type": "code",
   "execution_count": 19,
   "metadata": {},
   "outputs": [],
   "source": [
    "def UCS(g, start, end):\n",
    "    pass"
   ]
  },
  {
   "cell_type": "code",
   "execution_count": 20,
   "metadata": {},
   "outputs": [],
   "source": [
    "resetColor(g)\n",
    "UCS(g, 'S', 'G')"
   ]
  }
 ],
 "metadata": {
  "kernelspec": {
   "display_name": "base",
   "language": "python",
   "name": "python3"
  },
  "language_info": {
   "codemirror_mode": {
    "name": "ipython",
    "version": 3
   },
   "file_extension": ".py",
   "mimetype": "text/x-python",
   "name": "python",
   "nbconvert_exporter": "python",
   "pygments_lexer": "ipython3",
   "version": "3.9.16"
  },
  "orig_nbformat": 4
 },
 "nbformat": 4,
 "nbformat_minor": 2
}
