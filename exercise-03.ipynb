{
 "cells": [
  {
   "cell_type": "markdown",
   "metadata": {},
   "source": [
    "# Week 3: Constraint satisfaction problems\n"
   ]
  },
  {
   "cell_type": "markdown",
   "metadata": {},
   "source": [
    "\n",
    "```\n",
    "Constraint Satisfaction Problems\n",
    "(CSPs)\n",
    "```\n",
    "- Standard search problem:\n",
    "    **_state_** is a “black box”—any old data structure that supports goal test, eval, successor\n",
    "- CSP:\n",
    "    - **_state_** is defined by _variables_ **_Xi_** with _values_ from _domain_ **_Di_**\n",
    "    - **_goal test_** is a set of _constraints_ specifying allowable combinations of _values_ for subsets of _variables_\n",
    "- Simple example of a **_formal representation language_**\n",
    "- Allows useful **_general-purpose_** algorithms with more power than standard search algorithms\n",
    "\n",
    "CSPs: The most used techniques\n",
    "The most used techniques are variants of:\n",
    "\n",
    "- **Backtracking** _(Depth-First Search)_\n",
    "- **Constraint Propagation**\n",
    "    - _Arc Consistency_\n",
    "- **Local Search**\n",
    "    - _minConflict (Hill Climbing)_\n",
    "\n",
    "More In Lectures\n",
    "\n",
    "- Forward checking\n",
    "- Arc Consistency\n"
   ]
  },
  {
   "cell_type": "markdown",
   "metadata": {},
   "source": [
    "Discuss organization around HWs!!!!"
   ]
  },
  {
   "cell_type": "code",
   "execution_count": 1,
   "metadata": {},
   "outputs": [],
   "source": [
    "assocs = {\n",
    "    'WA' : ['NT', 'SA'],\n",
    "    'NT' : ['WA', 'SA', 'Q'],\n",
    "    'SA' : ['WA', 'NT', 'Q', 'NSW', 'V'],\n",
    "    'Q'  : ['NT', 'SA', 'NSW'],\n",
    "    'NSW': ['Q' , 'SA', 'V'],\n",
    "    'V'  : ['SA', 'NSW', 'T'],\n",
    "    'T'  : ['SA', 'Q'],\n",
    "}"
   ]
  },
  {
   "cell_type": "code",
   "execution_count": 2,
   "metadata": {},
   "outputs": [],
   "source": [
    "all_colors = {'R', 'G', 'B'}"
   ]
  },
  {
   "cell_type": "code",
   "execution_count": 3,
   "metadata": {},
   "outputs": [],
   "source": [
    "variables = ['WA' ,\n",
    "'NT' ,\n",
    "'SA' ,\n",
    "'Q'  ,\n",
    "'NSW',\n",
    "'V'  ,\n",
    "'T'  ]"
   ]
  },
  {
   "cell_type": "code",
   "execution_count": 4,
   "metadata": {},
   "outputs": [],
   "source": [
    "def get_valid_assignments(target_var, color_assignments, assocs):\n",
    "    impossible_colors = set()\n",
    "    for child_var in assocs.get(target_var, []):\n",
    "        color_of_child = color_assignments.get(child_var)\n",
    "        impossible_colors.add(color_of_child)\n",
    "\n",
    "    return all_colors - impossible_colors"
   ]
  },
  {
   "cell_type": "code",
   "execution_count": 5,
   "metadata": {},
   "outputs": [],
   "source": [
    "def is_valid_end_assignment(assocs, color_assignments):\n",
    "    for node, children in assocs.items():\n",
    "        if node not in color_assignments and len(children) == 0:\n",
    "            return False\n",
    "\n",
    "        color_of_node = color_assignments.get(node)\n",
    "        for child in children:\n",
    "            color_of_child = color_assignments.get(child)\n",
    "            if color_of_node is None or color_of_node == color_of_child:\n",
    "                return False\n",
    "\n",
    "    return True"
   ]
  },
  {
   "cell_type": "code",
   "execution_count": 6,
   "metadata": {},
   "outputs": [],
   "source": [
    "assert is_valid_end_assignment(assocs, dict()) == False, \\\n",
    "    'empty assignmenet should be invalid'\n",
    "\n",
    "assert not is_valid_end_assignment(assocs, {'WA': 'R', 'NA': 'R', 'SA': 'R', 'Q': 'R', 'NSW': 'R'})\n",
    "\n",
    "assert not is_valid_end_assignment(assocs, {'WA': 'R', 'NT': 'G', 'SA': 'B', 'Q': 'R', 'NSW': 'G', 'V': 'R'})"
   ]
  },
  {
   "cell_type": "markdown",
   "metadata": {},
   "source": []
  },
  {
   "cell_type": "code",
   "execution_count": 7,
   "metadata": {},
   "outputs": [],
   "source": [
    "def find_color_assignment(assocs):\n",
    "    color_assignments = dict()\n",
    "\n",
    "    def dfs(color_assignments):\n",
    "        if is_valid_end_assignment(assocs, color_assignments):\n",
    "            return color_assignments\n",
    "\n",
    "        for target_var in variables:\n",
    "            if target_var in color_assignments:\n",
    "                continue\n",
    "\n",
    "            valid_assignments = get_valid_assignments(target_var, color_assignments, assocs)\n",
    "            if len(valid_assignments) == 0:\n",
    "                return None\n",
    "\n",
    "            for color in valid_assignments:\n",
    "                color_assignments[target_var] = color\n",
    "                assignment = dfs(dict(color_assignments))\n",
    "                if assignment is not None :\n",
    "                    return assignment\n",
    "\n",
    "    return dfs(color_assignments)"
   ]
  },
  {
   "cell_type": "code",
   "execution_count": 8,
   "metadata": {},
   "outputs": [
    {
     "data": {
      "text/plain": [
       "{'WA': 'R', 'NT': 'B', 'SA': 'G', 'Q': 'R', 'NSW': 'B', 'V': 'R', 'T': 'B'}"
      ]
     },
     "execution_count": 8,
     "metadata": {},
     "output_type": "execute_result"
    }
   ],
   "source": [
    "assigment = find_color_assignment(assocs)\n",
    "assigment"
   ]
  },
  {
   "cell_type": "code",
   "execution_count": 9,
   "metadata": {},
   "outputs": [
    {
     "data": {
      "text/plain": [
       "{'WA': 'R', 'NT': 'B', 'SA': 'G', 'Q': 'R', 'NSW': 'B', 'V': 'R', 'T': 'B'}"
      ]
     },
     "execution_count": 9,
     "metadata": {},
     "output_type": "execute_result"
    }
   ],
   "source": [
    "assigment = find_color_assignment(assocs)\n",
    "assigment"
   ]
  }
 ],
 "metadata": {
  "kernelspec": {
   "display_name": "Python 3 (ipykernel)",
   "language": "python",
   "name": "python3"
  },
  "language_info": {
   "codemirror_mode": {
    "name": "ipython",
    "version": 3
   },
   "file_extension": ".py",
   "mimetype": "text/x-python",
   "name": "python",
   "nbconvert_exporter": "python",
   "pygments_lexer": "ipython3",
   "version": "3.6.8"
  },
  "toc": {
   "base_numbering": 1,
   "nav_menu": {},
   "number_sections": true,
   "sideBar": true,
   "skip_h1_title": false,
   "title_cell": "Table of Contents",
   "title_sidebar": "Contents",
   "toc_cell": false,
   "toc_position": {},
   "toc_section_display": true,
   "toc_window_display": false
  }
 },
 "nbformat": 4,
 "nbformat_minor": 2
}
